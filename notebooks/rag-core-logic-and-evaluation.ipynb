{
 "cells": [
  {
   "cell_type": "markdown",
   "metadata": {},
   "source": [
    "# This NoteBook will cover:\n",
    "- Testing the retriever implmentation, which is already present in the ComplaintVectorPipeline class\n",
    "- Prompt engineering to Guide the model\n",
    "- Generator implementation, we will combine the prompt, the user question, and the retrieved chunk and send the combined input to an LLM\n",
    "- Qualitative evaluation, test the LLM using 5-10 questions put them through the rug pipline and analyse the results"
   ]
  },
  {
   "cell_type": "markdown",
   "metadata": {},
   "source": []
  },
  {
   "cell_type": "markdown",
   "metadata": {},
   "source": [
    "## Retriever Implementation"
   ]
  },
  {
   "cell_type": "code",
   "execution_count": null,
   "metadata": {
    "execution": {
     "iopub.execute_input": "2025-07-07T19:59:24.507639Z",
     "iopub.status.busy": "2025-07-07T19:59:24.507011Z",
     "iopub.status.idle": "2025-07-07T20:00:14.025435Z",
     "shell.execute_reply": "2025-07-07T20:00:14.024831Z",
     "shell.execute_reply.started": "2025-07-07T19:59:24.507596Z"
    },
    "trusted": true
   },
   "outputs": [
    {
     "name": "stderr",
     "output_type": "stream",
     "text": [
      "2025-07-07 19:59:44.817715: E external/local_xla/xla/stream_executor/cuda/cuda_fft.cc:477] Unable to register cuFFT factory: Attempting to register factory for plugin cuFFT when one has already been registered\n",
      "WARNING: All log messages before absl::InitializeLog() is called are written to STDERR\n",
      "E0000 00:00:1751918385.249438      35 cuda_dnn.cc:8310] Unable to register cuDNN factory: Attempting to register factory for plugin cuDNN when one has already been registered\n",
      "E0000 00:00:1751918385.352039      35 cuda_blas.cc:1418] Unable to register cuBLAS factory: Attempting to register factory for plugin cuBLAS when one has already been registered\n"
     ]
    },
    {
     "data": {
      "application/vnd.jupyter.widget-view+json": {
       "model_id": "fdaa1407e032451c9992f0ebeac6a068",
       "version_major": 2,
       "version_minor": 0
      },
      "text/plain": [
       "modules.json:   0%|          | 0.00/349 [00:00<?, ?B/s]"
      ]
     },
     "metadata": {},
     "output_type": "display_data"
    },
    {
     "data": {
      "application/vnd.jupyter.widget-view+json": {
       "model_id": "de8d6e1ccd354b979b30e5845e2a9698",
       "version_major": 2,
       "version_minor": 0
      },
      "text/plain": [
       "config_sentence_transformers.json:   0%|          | 0.00/116 [00:00<?, ?B/s]"
      ]
     },
     "metadata": {},
     "output_type": "display_data"
    },
    {
     "data": {
      "application/vnd.jupyter.widget-view+json": {
       "model_id": "30b3b67d62b246b2a2bd2a33b617acf8",
       "version_major": 2,
       "version_minor": 0
      },
      "text/plain": [
       "README.md: 0.00B [00:00, ?B/s]"
      ]
     },
     "metadata": {},
     "output_type": "display_data"
    },
    {
     "data": {
      "application/vnd.jupyter.widget-view+json": {
       "model_id": "1d1bd4ed0b6e4cab9751ee3ccafa0b24",
       "version_major": 2,
       "version_minor": 0
      },
      "text/plain": [
       "sentence_bert_config.json:   0%|          | 0.00/53.0 [00:00<?, ?B/s]"
      ]
     },
     "metadata": {},
     "output_type": "display_data"
    },
    {
     "data": {
      "application/vnd.jupyter.widget-view+json": {
       "model_id": "00136bfaff2f4fc1bd8e216b0c6b69c3",
       "version_major": 2,
       "version_minor": 0
      },
      "text/plain": [
       "config.json:   0%|          | 0.00/612 [00:00<?, ?B/s]"
      ]
     },
     "metadata": {},
     "output_type": "display_data"
    },
    {
     "data": {
      "application/vnd.jupyter.widget-view+json": {
       "model_id": "74b0dd05a12a44c785d13f63203d996e",
       "version_major": 2,
       "version_minor": 0
      },
      "text/plain": [
       "model.safetensors:   0%|          | 0.00/90.9M [00:00<?, ?B/s]"
      ]
     },
     "metadata": {},
     "output_type": "display_data"
    },
    {
     "data": {
      "application/vnd.jupyter.widget-view+json": {
       "model_id": "ffe6aef22f4045abb5e34a709c13178d",
       "version_major": 2,
       "version_minor": 0
      },
      "text/plain": [
       "tokenizer_config.json:   0%|          | 0.00/350 [00:00<?, ?B/s]"
      ]
     },
     "metadata": {},
     "output_type": "display_data"
    },
    {
     "data": {
      "application/vnd.jupyter.widget-view+json": {
       "model_id": "63d55da99d03470a9305285fea2541f2",
       "version_major": 2,
       "version_minor": 0
      },
      "text/plain": [
       "vocab.txt: 0.00B [00:00, ?B/s]"
      ]
     },
     "metadata": {},
     "output_type": "display_data"
    },
    {
     "data": {
      "application/vnd.jupyter.widget-view+json": {
       "model_id": "f247a633842f4b3aab92e3e1ea58a0fc",
       "version_major": 2,
       "version_minor": 0
      },
      "text/plain": [
       "tokenizer.json: 0.00B [00:00, ?B/s]"
      ]
     },
     "metadata": {},
     "output_type": "display_data"
    },
    {
     "data": {
      "application/vnd.jupyter.widget-view+json": {
       "model_id": "f082fcf0d11e41bf90bad88fa5392853",
       "version_major": 2,
       "version_minor": 0
      },
      "text/plain": [
       "special_tokens_map.json:   0%|          | 0.00/112 [00:00<?, ?B/s]"
      ]
     },
     "metadata": {},
     "output_type": "display_data"
    },
    {
     "data": {
      "application/vnd.jupyter.widget-view+json": {
       "model_id": "3f635d540dda4bb3acd385b1f21baefd",
       "version_major": 2,
       "version_minor": 0
      },
      "text/plain": [
       "config.json:   0%|          | 0.00/190 [00:00<?, ?B/s]"
      ]
     },
     "metadata": {},
     "output_type": "display_data"
    }
   ],
   "source": [
    "import warnings\n",
    "warnings.filterwarnings(\"ignore\") \n",
    "from sentence_transformers import SentenceTransformer\n",
    "\n",
    "# Load and save the model for later deployment scripts\n",
    "model = SentenceTransformer(\"all-MiniLM-L6-v2\")\n",
    "model.save(\"../models/minilm_model/\")  # Creates directory with all required files"
   ]
  },
  {
   "cell_type": "code",
   "execution_count": null,
   "metadata": {
    "execution": {
     "iopub.execute_input": "2025-07-07T21:07:39.113169Z",
     "iopub.status.busy": "2025-07-07T21:07:39.112581Z",
     "iopub.status.idle": "2025-07-07T21:10:06.932215Z",
     "shell.execute_reply": "2025-07-07T21:10:06.931258Z",
     "shell.execute_reply.started": "2025-07-07T21:07:39.113143Z"
    },
    "trusted": true
   },
   "outputs": [
    {
     "name": "stdout",
     "output_type": "stream",
     "text": [
      "Model loaded successfully✅✅✅\n",
      "all data loaded successfully✅✅✅\n"
     ]
    }
   ],
   "source": [
    "import pandas as pd\n",
    "import faiss\n",
    "from sentence_transformers import SentenceTransformer\n",
    "from ComplaintVectorPipeline import ComplaintVectorPipeline  # use the actual module path\n",
    "\n",
    "# Load saved model\n",
    "model = SentenceTransformer(\"minilm_model/\")\n",
    "print(\"Model loaded successfully✅✅✅\")\n",
    "\n",
    "# Load index and chunk dataframe\n",
    "index = faiss.read_index(\"../vector_store/complaint_index.faiss\")\n",
    "chunk_df = pd.read_csv(\"../data/processed/chunked_complaints.csv\")\n",
    "filtered_df = pd.read_csv(\"../data/processed/final_filtered_complaints.csv\")  \n",
    "print(\"all data loaded successfully✅✅✅\")\n"
   ]
  },
  {
   "cell_type": "code",
   "execution_count": null,
   "metadata": {
    "execution": {
     "iopub.execute_input": "2025-07-07T21:10:48.628318Z",
     "iopub.status.busy": "2025-07-07T21:10:48.628003Z",
     "iopub.status.idle": "2025-07-07T21:10:48.851415Z",
     "shell.execute_reply": "2025-07-07T21:10:48.850725Z",
     "shell.execute_reply.started": "2025-07-07T21:10:48.628295Z"
    },
    "trusted": true
   },
   "outputs": [
    {
     "name": "stdout",
     "output_type": "stream",
     "text": [
      "Pipeline data instantiated successfully✅✅✅\n"
     ]
    }
   ],
   "source": [
    "# Instantiate the pipeline class\n",
    "pipeline = ComplaintVectorPipeline(embedding_model=\"../models/minilm_model/\")\n",
    "\n",
    "# Manually inject the assets to the pipeline class\n",
    "pipeline.model = model\n",
    "pipeline.index = index\n",
    "pipeline.chunk_df = chunk_df\n",
    "pipeline.filtered_df = filtered_df\n",
    "\n",
    "print(\"Pipeline data instantiated successfully✅✅✅\")"
   ]
  },
  {
   "cell_type": "code",
   "execution_count": 32,
   "metadata": {
    "execution": {
     "iopub.execute_input": "2025-07-07T21:11:08.803185Z",
     "iopub.status.busy": "2025-07-07T21:11:08.802414Z",
     "iopub.status.idle": "2025-07-07T21:11:08.921241Z",
     "shell.execute_reply": "2025-07-07T21:11:08.920413Z",
     "shell.execute_reply.started": "2025-07-07T21:11:08.803157Z"
    },
    "trusted": true
   },
   "outputs": [
    {
     "data": {
      "application/vnd.jupyter.widget-view+json": {
       "model_id": "1aef25a212154851acceb4109b92cec2",
       "version_major": 2,
       "version_minor": 0
      },
      "text/plain": [
       "Batches:   0%|          | 0/1 [00:00<?, ?it/s]"
      ]
     },
     "metadata": {},
     "output_type": "display_data"
    },
    {
     "data": {
      "text/html": [
       "<div>\n",
       "<style scoped>\n",
       "    .dataframe tbody tr th:only-of-type {\n",
       "        vertical-align: middle;\n",
       "    }\n",
       "\n",
       "    .dataframe tbody tr th {\n",
       "        vertical-align: top;\n",
       "    }\n",
       "\n",
       "    .dataframe thead th {\n",
       "        text-align: right;\n",
       "    }\n",
       "</style>\n",
       "<table border=\"1\" class=\"dataframe\">\n",
       "  <thead>\n",
       "    <tr style=\"text-align: right;\">\n",
       "      <th></th>\n",
       "      <th>chunk_text</th>\n",
       "      <th>similarity</th>\n",
       "      <th>Product</th>\n",
       "      <th>Normalized Consumer complaint narrative_full</th>\n",
       "    </tr>\n",
       "  </thead>\n",
       "  <tbody>\n",
       "    <tr>\n",
       "      <th>0</th>\n",
       "      <td>. 2. lack of consistent reporting standards : ...</td>\n",
       "      <td>0.537780</td>\n",
       "      <td>BNPL</td>\n",
       "      <td>1. unfair and inaccurate negative credit repor...</td>\n",
       "    </tr>\n",
       "    <tr>\n",
       "      <th>1</th>\n",
       "      <td>. bmo is a . at least other american consumers...</td>\n",
       "      <td>0.508700</td>\n",
       "      <td>Credit card</td>\n",
       "      <td>on year , when i was reviewing the transaction...</td>\n",
       "    </tr>\n",
       "    <tr>\n",
       "      <th>2</th>\n",
       "      <td>. their business practices are unfair to custo...</td>\n",
       "      <td>0.464392</td>\n",
       "      <td>Money transfers</td>\n",
       "      <td>i have a business account with venmo which i h...</td>\n",
       "    </tr>\n",
       "    <tr>\n",
       "      <th>3</th>\n",
       "      <td>. just give me a legit reason. i believe that ...</td>\n",
       "      <td>0.461728</td>\n",
       "      <td>Credit card</td>\n",
       "      <td>i had a perfect standing account with my bmo c...</td>\n",
       "    </tr>\n",
       "    <tr>\n",
       "      <th>4</th>\n",
       "      <td>. they are struggling to adapt their business ...</td>\n",
       "      <td>0.454296</td>\n",
       "      <td>Money transfers</td>\n",
       "      <td>year 2024. consumer financial protection burea...</td>\n",
       "    </tr>\n",
       "  </tbody>\n",
       "</table>\n",
       "</div>"
      ],
      "text/plain": [
       "                                          chunk_text  similarity  \\\n",
       "0  . 2. lack of consistent reporting standards : ...    0.537780   \n",
       "1  . bmo is a . at least other american consumers...    0.508700   \n",
       "2  . their business practices are unfair to custo...    0.464392   \n",
       "3  . just give me a legit reason. i believe that ...    0.461728   \n",
       "4  . they are struggling to adapt their business ...    0.454296   \n",
       "\n",
       "           Product       Normalized Consumer complaint narrative_full  \n",
       "0             BNPL  1. unfair and inaccurate negative credit repor...  \n",
       "1      Credit card  on year , when i was reviewing the transaction...  \n",
       "2  Money transfers  i have a business account with venmo which i h...  \n",
       "3      Credit card  i had a perfect standing account with my bmo c...  \n",
       "4  Money transfers  year 2024. consumer financial protection burea...  "
      ]
     },
     "execution_count": 32,
     "metadata": {},
     "output_type": "execute_result"
    }
   ],
   "source": [
    "query = \"Why are people unhappy with BNPL?\"\n",
    "results = pipeline.search(query, top_k=5, return_full_text=True)\n",
    "\n",
    "# Preview results\n",
    "results[[\"chunk_text\", \"similarity\", \"Product\", \"Normalized Consumer complaint narrative_full\"]]\n"
   ]
  },
  {
   "cell_type": "code",
   "execution_count": 11,
   "metadata": {
    "execution": {
     "iopub.execute_input": "2025-07-07T20:05:24.812657Z",
     "iopub.status.busy": "2025-07-07T20:05:24.812368Z",
     "iopub.status.idle": "2025-07-07T20:05:24.818346Z",
     "shell.execute_reply": "2025-07-07T20:05:24.817722Z",
     "shell.execute_reply.started": "2025-07-07T20:05:24.812637Z"
    },
    "trusted": true
   },
   "outputs": [
    {
     "data": {
      "text/plain": [
       "\"1. unfair and inaccurate negative credit reporting : i am writing to file a formal complaint against affirm for unfair and inaccurate credit reporting practices. specifically, affirm has reported late payments on my credit report, negatively impacting my credit score. however, affirm has never reported any of my previous on-time payments to the credit bureaus. this selective reporting, where only negative information is shared, is fundamentally unfair and misleading. this practice creates a skewed perception of my creditworthiness, as it only reflects negative events without any corresponding positive payment history. 2. lack of consistent reporting standards : it is my understanding that buy now, pay later bnpl companies, including affirm, should not report negative information if they have not consistently reported positive payment history. this is based on the principle that a complete and accurate credit profile requires a balanced representation of both positive and negative financial behavior. many consumer advocacy groups and financial experts have raised concerns about the inconsistent reporting practices of bnpl companies. reporting only negative data creates an incomplete and potentially damaging picture of a consumer 's creditworthiness. it is my understanding that the cfpb has been looking into the bnpl sector, and the unfair practices that are being used. . difficulty accessing assistance during financial hardship : furthermore, affirm does not provide easily accessible avenues for customers to seek assistance during periods of financial hardship. navigating their customer service channels to request payment arrangements or other forms of support is unnecessarily difficult and frustrating. this lack of transparency and accessibility exacerbates the negative impact of late payments, particularly during unforeseen financial challenges. i have attempted to contact them and have received no assistance.\""
      ]
     },
     "execution_count": 11,
     "metadata": {},
     "output_type": "execute_result"
    }
   ],
   "source": [
    "# Check original complaint\n",
    "results.iloc[0][\"Normalized Consumer complaint narrative_full\"]"
   ]
  },
  {
   "cell_type": "code",
   "execution_count": 12,
   "metadata": {
    "execution": {
     "iopub.execute_input": "2025-07-07T20:07:11.111609Z",
     "iopub.status.busy": "2025-07-07T20:07:11.110976Z",
     "iopub.status.idle": "2025-07-07T20:07:11.117596Z",
     "shell.execute_reply": "2025-07-07T20:07:11.116953Z",
     "shell.execute_reply.started": "2025-07-07T20:07:11.111585Z"
    },
    "trusted": true
   },
   "outputs": [
    {
     "name": "stdout",
     "output_type": "stream",
     "text": [
      "\n",
      "🧩 Match 1 — Similarity: 0.5378\n",
      "Issue: Struggling to pay your loan\n",
      "Product: BNPL\n",
      "Chunk: . 2. lack of consistent reporting standards : it is my understanding that buy now, pay later bnpl companies, including affirm, should not report negative information if they have not consistently reported positive payment history. this is based on the principle that a complete and accurate credit pr ...\n",
      "\n",
      "🧩 Match 2 — Similarity: 0.5087\n",
      "Issue: Closing your account\n",
      "Product: Credit card\n",
      "Chunk: . bmo is a . at least other american consumers have reached out to me on complaining about the same experience. ...\n",
      "\n",
      "🧩 Match 3 — Similarity: 0.4644\n",
      "Issue: Managing, opening, or closing your mobile wallet account\n",
      "Product: Money transfers\n",
      "Chunk: . their business practices are unfair to customers. they are a big tech bully toward small businesses and individuals, and need to be held accountable for their deceptive and unfair conduct. ...\n",
      "\n",
      "🧩 Match 4 — Similarity: 0.4617\n",
      "Issue: Closing your account\n",
      "Product: Credit card\n",
      "Chunk: . just give me a legit reason. i believe that is my right. here are a few suggested reasons on line as to why they are doing this to multiple good standing customers : bmo has been closing customer accounts without providing clear reasons, which has affected customers who have been using their cash  ...\n",
      "\n",
      "🧩 Match 5 — Similarity: 0.4543\n",
      "Issue: Fraud or scam\n",
      "Product: Money transfers\n",
      "Chunk: . they are struggling to adapt their business offering in the ever-changing world of it development. the internet is presenting a real problem which they choose to manage in a way which is not in line with rules and regulations of cfpb as well as their own internal policy and procedures sold to thei ...\n"
     ]
    }
   ],
   "source": [
    "# Preview all matches\n",
    "for i, row in results.iterrows():\n",
    "    print(f\"\\n🧩 Match {i+1} — Similarity: {row['similarity']:.4f}\")\n",
    "    print(f\"Issue: {row['Issue']}\")\n",
    "    print(f\"Product: {row['Product']}\")\n",
    "    print(\"Chunk:\", row[\"chunk_text\"][:300], \"...\")"
   ]
  },
  {
   "cell_type": "markdown",
   "metadata": {},
   "source": [
    "# For the generator implementation we will be using three cusome classes\n",
    "- PromptBuilder: creates a prompt template including both context and question together\n",
    "- LLMClient: to instantiate the base generatorm model and pass prompt for answer generation\n",
    "- RAGAgent: to encapsulate the searching, prompt building, the answer generation by LLMClient and return structured response"
   ]
  },
  {
   "cell_type": "code",
   "execution_count": null,
   "metadata": {
    "execution": {
     "iopub.execute_input": "2025-07-07T20:59:20.239638Z",
     "iopub.status.busy": "2025-07-07T20:59:20.239347Z",
     "iopub.status.idle": "2025-07-07T21:01:19.361837Z",
     "shell.execute_reply": "2025-07-07T21:01:19.361112Z",
     "shell.execute_reply.started": "2025-07-07T20:59:20.239616Z"
    },
    "trusted": true
   },
   "outputs": [
    {
     "data": {
      "application/vnd.jupyter.widget-view+json": {
       "model_id": "07b52ec8e376441a96ecb52fd96c91fe",
       "version_major": 2,
       "version_minor": 0
      },
      "text/plain": [
       "tokenizer_config.json:   0%|          | 0.00/2.10k [00:00<?, ?B/s]"
      ]
     },
     "metadata": {},
     "output_type": "display_data"
    },
    {
     "data": {
      "application/vnd.jupyter.widget-view+json": {
       "model_id": "04fa1a26847d411c8b96ba5f1b16f6e2",
       "version_major": 2,
       "version_minor": 0
      },
      "text/plain": [
       "tokenizer.model:   0%|          | 0.00/493k [00:00<?, ?B/s]"
      ]
     },
     "metadata": {},
     "output_type": "display_data"
    },
    {
     "data": {
      "application/vnd.jupyter.widget-view+json": {
       "model_id": "5ba0df62e1ba47808e00e5e65278debe",
       "version_major": 2,
       "version_minor": 0
      },
      "text/plain": [
       "tokenizer.json:   0%|          | 0.00/1.80M [00:00<?, ?B/s]"
      ]
     },
     "metadata": {},
     "output_type": "display_data"
    },
    {
     "data": {
      "application/vnd.jupyter.widget-view+json": {
       "model_id": "c3d59d103b2348b7bd44bfb563b90eed",
       "version_major": 2,
       "version_minor": 0
      },
      "text/plain": [
       "special_tokens_map.json:   0%|          | 0.00/414 [00:00<?, ?B/s]"
      ]
     },
     "metadata": {},
     "output_type": "display_data"
    },
    {
     "data": {
      "application/vnd.jupyter.widget-view+json": {
       "model_id": "a605410c84b24dd39c3acc9bab09fa22",
       "version_major": 2,
       "version_minor": 0
      },
      "text/plain": [
       "config.json:   0%|          | 0.00/571 [00:00<?, ?B/s]"
      ]
     },
     "metadata": {},
     "output_type": "display_data"
    },
    {
     "data": {
      "application/vnd.jupyter.widget-view+json": {
       "model_id": "c198446c6abc4996bbae4b1e7aec6bfb",
       "version_major": 2,
       "version_minor": 0
      },
      "text/plain": [
       "model.safetensors.index.json:   0%|          | 0.00/25.1k [00:00<?, ?B/s]"
      ]
     },
     "metadata": {},
     "output_type": "display_data"
    },
    {
     "data": {
      "application/vnd.jupyter.widget-view+json": {
       "model_id": "0136ffa7aa444b20aa7846661ca154f0",
       "version_major": 2,
       "version_minor": 0
      },
      "text/plain": [
       "Fetching 2 files:   0%|          | 0/2 [00:00<?, ?it/s]"
      ]
     },
     "metadata": {},
     "output_type": "display_data"
    },
    {
     "data": {
      "application/vnd.jupyter.widget-view+json": {
       "model_id": "a97ac4120a474fe8a67863caf70eab38",
       "version_major": 2,
       "version_minor": 0
      },
      "text/plain": [
       "model-00002-of-00002.safetensors:   0%|          | 0.00/4.54G [00:00<?, ?B/s]"
      ]
     },
     "metadata": {},
     "output_type": "display_data"
    },
    {
     "data": {
      "application/vnd.jupyter.widget-view+json": {
       "model_id": "dae6db91d0ca4483bbcb3b1b61071e3c",
       "version_major": 2,
       "version_minor": 0
      },
      "text/plain": [
       "model-00001-of-00002.safetensors:   0%|          | 0.00/9.94G [00:00<?, ?B/s]"
      ]
     },
     "metadata": {},
     "output_type": "display_data"
    },
    {
     "data": {
      "application/vnd.jupyter.widget-view+json": {
       "model_id": "4d6438d1cb3a41d38e677a51e301f147",
       "version_major": 2,
       "version_minor": 0
      },
      "text/plain": [
       "Loading checkpoint shards:   0%|          | 0/2 [00:00<?, ?it/s]"
      ]
     },
     "metadata": {},
     "output_type": "display_data"
    },
    {
     "data": {
      "application/vnd.jupyter.widget-view+json": {
       "model_id": "18aa6bebb5f34a6ea69f368f0167de0c",
       "version_major": 2,
       "version_minor": 0
      },
      "text/plain": [
       "generation_config.json:   0%|          | 0.00/116 [00:00<?, ?B/s]"
      ]
     },
     "metadata": {},
     "output_type": "display_data"
    },
    {
     "name": "stderr",
     "output_type": "stream",
     "text": [
      "Device set to use cuda:0\n"
     ]
    },
    {
     "name": "stdout",
     "output_type": "stream",
     "text": [
      "Mistral model loaded successfully✅✅✅\n"
     ]
    }
   ],
   "source": [
    "from transformers import AutoModelForCausalLM, AutoTokenizer, pipeline\n",
    "import os \n",
    "import sys\n",
    "\n",
    "sys.path.append(os.path.abspath(\"../src\"))\n",
    "from models.RAG_Pipline import PromptBuilder, LLMClient, RAGAgent\n",
    "\n",
    "from dotenv import load_dotenv\n",
    "\n",
    "load_dotenv()\n",
    "\n",
    "# Autenthicate with hugging face\n",
    "from huggingface_hub import login\n",
    "login(token=os.getenv(\"HUGGING_FACE_TOKEN\")) \n",
    "\n",
    "# Load Mistral\n",
    "model_id = \"mistralai/Mistral-7B-Instruct-v0.1\"\n",
    "tokenizer = AutoTokenizer.from_pretrained(model_id)\n",
    "model = AutoModelForCausalLM.from_pretrained(model_id, device_map=\"auto\")\n",
    "generator = pipeline(\"text-generation\", model=model, tokenizer=tokenizer)\n",
    "\n",
    "print(\"Mistral model loaded successfully✅✅✅\")"
   ]
  },
  {
   "cell_type": "markdown",
   "metadata": {},
   "source": [
    "### Lets set up our template and pass it to our prompt builder"
   ]
  },
  {
   "cell_type": "code",
   "execution_count": 38,
   "metadata": {
    "execution": {
     "iopub.execute_input": "2025-07-07T21:32:54.013009Z",
     "iopub.status.busy": "2025-07-07T21:32:54.012647Z",
     "iopub.status.idle": "2025-07-07T21:32:54.017790Z",
     "shell.execute_reply": "2025-07-07T21:32:54.017118Z",
     "shell.execute_reply.started": "2025-07-07T21:32:54.012985Z"
    },
    "trusted": true
   },
   "outputs": [
    {
     "name": "stdout",
     "output_type": "stream",
     "text": [
      "All classes assembled and prompt passed to prompt builder\n"
     ]
    }
   ],
   "source": [
    "template = (\n",
    "    \"You are a financial complaints analyst for CrediTrust. Your role is to answer user questions about customer complaints using only the retrieved complaint excerpts provided below.\\n\\n\"\n",
    "    \"These excerpts may include complaints across multiple financial products (e.g., BNPL, credit cards, loans). If the retrieved context offers insight into the question, summarize the key issues clearly and concisely and in a structured manner using bullet points and the like. \"\n",
    "    \"If the context does not contain enough information, say: “The context does not provide enough information to answer this question.”\\n\\n\"\n",
    "    \"Context:\\n{context}\\n\\n\"\n",
    "    \"Question:\\n{question}\\n\\n\"\n",
    "    \"Answer:\"\n",
    ")\n",
    "\n",
    "# Assemble all classes\n",
    "builder = PromptBuilder(template)\n",
    "llm_client = LLMClient(generator)\n",
    "agent = RAGAgent(pipeline, builder, llm_client)\n",
    "print(\"All classes assembled and prompt passed to prompt builder\")\n"
   ]
  },
  {
   "cell_type": "code",
   "execution_count": 39,
   "metadata": {
    "execution": {
     "iopub.execute_input": "2025-07-07T21:33:03.485383Z",
     "iopub.status.busy": "2025-07-07T21:33:03.485091Z",
     "iopub.status.idle": "2025-07-07T21:33:28.150824Z",
     "shell.execute_reply": "2025-07-07T21:33:28.150137Z",
     "shell.execute_reply.started": "2025-07-07T21:33:03.485362Z"
    },
    "trusted": true
   },
   "outputs": [
    {
     "data": {
      "application/vnd.jupyter.widget-view+json": {
       "model_id": "9fdf8053e10d47a8a03e838eccae5049",
       "version_major": 2,
       "version_minor": 0
      },
      "text/plain": [
       "Batches:   0%|          | 0/1 [00:00<?, ?it/s]"
      ]
     },
     "metadata": {},
     "output_type": "display_data"
    },
    {
     "name": "stderr",
     "output_type": "stream",
     "text": [
      "Setting `pad_token_id` to `eos_token_id`:2 for open-end generation.\n"
     ]
    },
    {
     "name": "stdout",
     "output_type": "stream",
     "text": [
      "• Lack of consistency in reporting standards: This complaint points out that BNPL companies, including affirm, do not consistently report negative information if they have not reported positive payment history. This makes it harder for people to be assessed accurately by credit bureaus.\n",
      "• Poor customer service: The complaint highlights issues of poor customer service from BMO, with customers reporting that their accounts were closed without notice or explanation despite having good credit scores and being responsible users.\n",
      "• Internal financial struggles: The complaint suggests that BNPL companies may be struggling to adapt their business offerings in a rapidly changing world. Changes in business strategy or internal financial issues could lead to negative experiences for customers.\n",
      "• Political or strategic considerations: The complaint speculates that there could be political or strategic motivations involved, such as tensions between Canada and the US or a change in business strategy.\n"
     ]
    }
   ],
   "source": [
    "# Exmaple run\n",
    "response = agent.run(\"Why are people unhappy with BNPL?\")\n",
    "print(response)"
   ]
  },
  {
   "cell_type": "code",
   "execution_count": null,
   "metadata": {
    "execution": {
     "iopub.execute_input": "2025-07-07T21:15:30.333897Z",
     "iopub.status.busy": "2025-07-07T21:15:30.333188Z",
     "iopub.status.idle": "2025-07-07T21:15:30.619060Z",
     "shell.execute_reply": "2025-07-07T21:15:30.618187Z",
     "shell.execute_reply.started": "2025-07-07T21:15:30.333856Z"
    },
    "trusted": true
   },
   "outputs": [
    {
     "data": {
      "text/plain": [
       "('streamlit_assets/mistral_model/tokenizer_config.json',\n",
       " 'streamlit_assets/mistral_model/special_tokens_map.json',\n",
       " 'streamlit_assets/mistral_model/tokenizer.model',\n",
       " 'streamlit_assets/mistral_model/added_tokens.json',\n",
       " 'streamlit_assets/mistral_model/tokenizer.json')"
      ]
     },
     "execution_count": 35,
     "metadata": {},
     "output_type": "execute_result"
    }
   ],
   "source": [
    "#save model for later use\n",
    "model.save_pretrained(\"../models/streamlit_assets/mistral_model/\")\n",
    "tokenizer.save_pretrained(\"../models/streamlit_assets/mistral_model/\")"
   ]
  },
  {
   "cell_type": "markdown",
   "metadata": {},
   "source": [
    "# Qualitative evaluation\n",
    "## Below are the choosen questions with a concise discription of what they capture:\n",
    "- Why are customers unhappy with BNPL(buy now pay later) services?\n",
    "    - (Tests general dissatisfaction across proxy-labeled complaints.)\n",
    "- What issues do people commonly report about credit cards?\n",
    "    - (Targets a well-defined product with high volume.)\n",
    "- Are there shared complaints between personal loans and savings accounts?\n",
    "    - (Evaluates multi-product synthesis and comparison.)\n",
    "- What problems do consumers face when using money transfer services?\n",
    "    - (Tests retrieval over service-related operational issues.)\n",
    "- How do customers feel about repayment options on personal loans?\n",
    "    - (Targets nuance and emotional tone in loan-related complaints.)\n",
    "- Is there evidence of misleading communication in BNPL or credit card services?\n",
    "    - (Tests detection of trust-related issues across two products.)\n",
    "- What patterns of frustration emerge from savings account complaints?\n",
    "    - (Pushes for issue clustering from a specific financial product.)\n",
    "- Why do people dispute fees on money transfer platforms?\n",
    "    - (Drills into a common financial pain point with specificity.)\n",
    "- Do loan customers mention any difficulties during the application process?\n",
    "    - (Evaluates surface of journey mapping from complaints.)\n"
   ]
  },
  {
   "cell_type": "code",
   "execution_count": 40,
   "metadata": {
    "execution": {
     "iopub.execute_input": "2025-07-07T21:34:11.491931Z",
     "iopub.status.busy": "2025-07-07T21:34:11.491613Z",
     "iopub.status.idle": "2025-07-07T21:34:23.326445Z",
     "shell.execute_reply": "2025-07-07T21:34:23.325419Z",
     "shell.execute_reply.started": "2025-07-07T21:34:11.491902Z"
    },
    "trusted": true
   },
   "outputs": [
    {
     "data": {
      "application/vnd.jupyter.widget-view+json": {
       "model_id": "ce17d69525bc4b099e45360c310174cf",
       "version_major": 2,
       "version_minor": 0
      },
      "text/plain": [
       "Batches:   0%|          | 0/1 [00:00<?, ?it/s]"
      ]
     },
     "metadata": {},
     "output_type": "display_data"
    },
    {
     "name": "stderr",
     "output_type": "stream",
     "text": [
      "Setting `pad_token_id` to `eos_token_id`:2 for open-end generation.\n"
     ]
    },
    {
     "name": "stdout",
     "output_type": "stream",
     "text": [
      "Customers are unhappy with BNPL services due to a lack of consistency in reporting standards, lack of transparency in pricing and fees, and exploitative marketing practices. These issues lead to financial and emotional burden for customers, with no concern for customer satisfaction or urgency to resolve issues. The CFPB is also investigating unfair practices in the BNPL sector.\n"
     ]
    }
   ],
   "source": [
    "# Question - 1\n",
    "response = agent.run(\"Why are customers unhappy with BNPL(buy now pay later) services?\")\n",
    "print(response)"
   ]
  },
  {
   "cell_type": "code",
   "execution_count": 41,
   "metadata": {
    "execution": {
     "iopub.execute_input": "2025-07-07T21:34:39.373437Z",
     "iopub.status.busy": "2025-07-07T21:34:39.373106Z",
     "iopub.status.idle": "2025-07-07T21:34:39.489044Z",
     "shell.execute_reply": "2025-07-07T21:34:39.488338Z",
     "shell.execute_reply.started": "2025-07-07T21:34:39.373417Z"
    },
    "trusted": true
   },
   "outputs": [
    {
     "data": {
      "application/vnd.jupyter.widget-view+json": {
       "model_id": "604c63eb3b3b4052ace881d8709c0e5c",
       "version_major": 2,
       "version_minor": 0
      },
      "text/plain": [
       "Batches:   0%|          | 0/1 [00:00<?, ?it/s]"
      ]
     },
     "metadata": {},
     "output_type": "display_data"
    },
    {
     "name": "stdout",
     "output_type": "stream",
     "text": [
      "                                          chunk_text  \\\n",
      "0  . 2. lack of consistent reporting standards : ...   \n",
      "1  . i dont know whats going on with companies no...   \n",
      "\n",
      "        Normalized Consumer complaint narrative_full  \n",
      "0  1. unfair and inaccurate negative credit repor...  \n",
      "1  on 2023, i made a purchase using a klarna one ...  \n"
     ]
    }
   ],
   "source": [
    "retrieved = pipeline.search(\"Why are customers unhappy with BNPL(buy now pay later) services?\", top_k=5, return_full_text=True)\n",
    "retrieved_chunks = retrieved[[\"chunk_text\", \"Normalized Consumer complaint narrative_full\"]].head(2)\n",
    "print(retrieved_chunks)"
   ]
  },
  {
   "cell_type": "code",
   "execution_count": 44,
   "metadata": {
    "execution": {
     "iopub.execute_input": "2025-07-07T21:41:24.888620Z",
     "iopub.status.busy": "2025-07-07T21:41:24.888042Z",
     "iopub.status.idle": "2025-07-07T21:41:31.509134Z",
     "shell.execute_reply": "2025-07-07T21:41:31.508245Z",
     "shell.execute_reply.started": "2025-07-07T21:41:24.888591Z"
    },
    "trusted": true
   },
   "outputs": [
    {
     "data": {
      "application/vnd.jupyter.widget-view+json": {
       "model_id": "9ae22912c9ec47f19757133ad18c408a",
       "version_major": 2,
       "version_minor": 0
      },
      "text/plain": [
       "Batches:   0%|          | 0/1 [00:00<?, ?it/s]"
      ]
     },
     "metadata": {},
     "output_type": "display_data"
    },
    {
     "name": "stderr",
     "output_type": "stream",
     "text": [
      "Setting `pad_token_id` to `eos_token_id`:2 for open-end generation.\n"
     ]
    },
    {
     "data": {
      "application/vnd.jupyter.widget-view+json": {
       "model_id": "a4c9bbc2845440c790947bccb3992661",
       "version_major": 2,
       "version_minor": 0
      },
      "text/plain": [
       "Batches:   0%|          | 0/1 [00:00<?, ?it/s]"
      ]
     },
     "metadata": {},
     "output_type": "display_data"
    },
    {
     "name": "stdout",
     "output_type": "stream",
     "text": [
      "People commonly report issues such as poor customer service, incorrect account management, high interest rates and fees, unjustified limit decreases, and lack of flexibility in policies.\n",
      "\n",
      "\n",
      "\n",
      "\n",
      "                                          chunk_text  \\\n",
      "0  . i have used many credit cards, and i have ne...   \n",
      "1  . and some other issues concerning the users c...   \n",
      "\n",
      "        Normalized Consumer complaint narrative_full  \n",
      "0  my name is , and this is about a visa card iss...  \n",
      "1  a letter sent to usaa federal savings bank in ...  \n"
     ]
    }
   ],
   "source": [
    "# Question - 2\n",
    "response = agent.run(\"What issues do people commonly report about credit cards?\")\n",
    "retrieved = pipeline.search(\"What issues do people commonly report about credit cards?\", top_k=5, return_full_text=True)\n",
    "retrieved_chunks = retrieved[[\"chunk_text\", \"Normalized Consumer complaint narrative_full\"]].head(2)\n",
    "print(response)\n",
    "print(\"\\n\\n\\n\")\n",
    "print(retrieved_chunks)\n"
   ]
  },
  {
   "cell_type": "code",
   "execution_count": 45,
   "metadata": {
    "execution": {
     "iopub.execute_input": "2025-07-07T21:44:38.028743Z",
     "iopub.status.busy": "2025-07-07T21:44:38.028406Z",
     "iopub.status.idle": "2025-07-07T21:45:07.310982Z",
     "shell.execute_reply": "2025-07-07T21:45:07.310056Z",
     "shell.execute_reply.started": "2025-07-07T21:44:38.028722Z"
    },
    "trusted": true
   },
   "outputs": [
    {
     "data": {
      "application/vnd.jupyter.widget-view+json": {
       "model_id": "9cdbc4f977934c0b894d8f118b5c433a",
       "version_major": 2,
       "version_minor": 0
      },
      "text/plain": [
       "Batches:   0%|          | 0/1 [00:00<?, ?it/s]"
      ]
     },
     "metadata": {},
     "output_type": "display_data"
    },
    {
     "name": "stderr",
     "output_type": "stream",
     "text": [
      "Setting `pad_token_id` to `eos_token_id`:2 for open-end generation.\n"
     ]
    },
    {
     "data": {
      "application/vnd.jupyter.widget-view+json": {
       "model_id": "f2635d49614646f582756821cbd698cc",
       "version_major": 2,
       "version_minor": 0
      },
      "text/plain": [
       "Batches:   0%|          | 0/1 [00:00<?, ?it/s]"
      ]
     },
     "metadata": {},
     "output_type": "display_data"
    },
    {
     "name": "stdout",
     "output_type": "stream",
     "text": [
      "o The user filed for bankruptcy in 2015, which included a personal loan with Wells Fargo. However, the bank continued to take payments even after the bankruptcy was granted, leading to the user closing all their accounts with them. This issue is related to personal loans.\n",
      "\n",
      "ii The user opened a savings account with Wells Fargo specifically for the great interest rate advertised. However, the bank did not give them a loan, they only opened a certificate of deposit. The user attempted to report the lie to credit agencies but was ignored. This issue is related to savings accounts.\n",
      "\n",
      "iii The user opened a checking account with Wells Fargo to make monthly payments into a certificate of deposit as part of a program to build credit. However, no loan was actually given, and the user discovered that the money they were giving to the bank went into a no-minimum certificate of deposit. This issue is related to both personal loans and savings accounts.\n",
      "\n",
      "Therefore, there are shared complaints between personal loans and savings accounts.\n",
      "\n",
      "\n",
      "\n",
      "                                          chunk_text  \\\n",
      "0  i had a wells fargo checking and savings accou...   \n",
      "1  . i have several savings accounts with them. i...   \n",
      "\n",
      "        Normalized Consumer complaint narrative_full  \n",
      "0  i had a wells fargo checking and savings accou...  \n",
      "1  i am filing a complaint against capital one re...  \n"
     ]
    }
   ],
   "source": [
    "# Question - 3\n",
    "response = agent.run(\"Are there shared complaints between personal loans and savings accounts?\")\n",
    "retrieved = pipeline.search(\"Are there shared complaints between personal loans and savings accounts?\", top_k=5, return_full_text=True)\n",
    "retrieved_chunks = retrieved[[\"chunk_text\", \"Normalized Consumer complaint narrative_full\"]].head(2)\n",
    "print(response)\n",
    "print(\"\\n\\n\")\n",
    "print(retrieved_chunks)"
   ]
  },
  {
   "cell_type": "code",
   "execution_count": 46,
   "metadata": {
    "execution": {
     "iopub.execute_input": "2025-07-07T21:48:19.980836Z",
     "iopub.status.busy": "2025-07-07T21:48:19.980520Z",
     "iopub.status.idle": "2025-07-07T21:48:45.474610Z",
     "shell.execute_reply": "2025-07-07T21:48:45.473933Z",
     "shell.execute_reply.started": "2025-07-07T21:48:19.980813Z"
    },
    "trusted": true
   },
   "outputs": [
    {
     "data": {
      "application/vnd.jupyter.widget-view+json": {
       "model_id": "51ddaa3b04bc474da7cf37284972d1b5",
       "version_major": 2,
       "version_minor": 0
      },
      "text/plain": [
       "Batches:   0%|          | 0/1 [00:00<?, ?it/s]"
      ]
     },
     "metadata": {},
     "output_type": "display_data"
    },
    {
     "name": "stderr",
     "output_type": "stream",
     "text": [
      "Setting `pad_token_id` to `eos_token_id`:2 for open-end generation.\n"
     ]
    },
    {
     "data": {
      "application/vnd.jupyter.widget-view+json": {
       "model_id": "16caae014a9b4097a4c5140be3501f1a",
       "version_major": 2,
       "version_minor": 0
      },
      "text/plain": [
       "Batches:   0%|          | 0/1 [00:00<?, ?it/s]"
      ]
     },
     "metadata": {},
     "output_type": "display_data"
    },
    {
     "name": "stdout",
     "output_type": "stream",
     "text": [
      "* Some consumers face inconvenience when money is accessed along the way during a transfer and not properly documented. \n",
      "* There may be deficiencies in operational safeguards and customer protection policies for some money transfer services, which may undermine consumer trust and accountability. \n",
      "* Some consumers have had difficulty knowing what problems with money transfers may have occurred, hindering their ability to resolve issues and feel safe using these services. \n",
      "* Some money transfer services may not be as reliable as promised, such as Zelle, leading to concerns about consumer safety. \n",
      "* Some consumers may not be aware of potential risks involving money transfers and may not be adequately protected. \n",
      "* Some consumers may face difficulties recovering lost funds or tracking transactions. \n",
      "* Consumers may also face issues related to scams and fraud.\n",
      "\n",
      "\n",
      "\n",
      "                                          chunk_text  \\\n",
      "0  . overall, these issues highlight a potential ...   \n",
      "1  . that can mean anything. any ones guess could...   \n",
      "\n",
      "        Normalized Consumer complaint narrative_full  \n",
      "0  as a user of the zelle money transfer service,...  \n",
      "1  , md 2020 ceo director money gram payment syst...  \n"
     ]
    }
   ],
   "source": [
    "# Question - 4\n",
    "response = agent.run(\"What problems do consumers face when using money transfer services?\")\n",
    "retrieved = pipeline.search(\"What problems do consumers face when using money transfer services?\", top_k=5, return_full_text=True)\n",
    "retrieved_chunks = retrieved[[\"chunk_text\", \"Normalized Consumer complaint narrative_full\"]].head(2)\n",
    "print(response)\n",
    "print(\"\\n\\n\")\n",
    "print(retrieved_chunks)"
   ]
  },
  {
   "cell_type": "code",
   "execution_count": 47,
   "metadata": {
    "execution": {
     "iopub.execute_input": "2025-07-07T21:50:39.445483Z",
     "iopub.status.busy": "2025-07-07T21:50:39.445113Z",
     "iopub.status.idle": "2025-07-07T21:50:51.048169Z",
     "shell.execute_reply": "2025-07-07T21:50:51.047451Z",
     "shell.execute_reply.started": "2025-07-07T21:50:39.445463Z"
    },
    "trusted": true
   },
   "outputs": [
    {
     "data": {
      "application/vnd.jupyter.widget-view+json": {
       "model_id": "4a9ee7150851463794a64c0da8151beb",
       "version_major": 2,
       "version_minor": 0
      },
      "text/plain": [
       "Batches:   0%|          | 0/1 [00:00<?, ?it/s]"
      ]
     },
     "metadata": {},
     "output_type": "display_data"
    },
    {
     "name": "stderr",
     "output_type": "stream",
     "text": [
      "Setting `pad_token_id` to `eos_token_id`:2 for open-end generation.\n"
     ]
    },
    {
     "data": {
      "application/vnd.jupyter.widget-view+json": {
       "model_id": "1c5bc20443f2409e91863adad0324a79",
       "version_major": 2,
       "version_minor": 0
      },
      "text/plain": [
       "Batches:   0%|          | 0/1 [00:00<?, ?it/s]"
      ]
     },
     "metadata": {},
     "output_type": "display_data"
    },
    {
     "name": "stdout",
     "output_type": "stream",
     "text": [
      "* The repayment options on personal loans can be inflexible and make it harder for customers to repay their loans\n",
      "* Predatory lending practices, like offering a high interest rate, can mislead customers\n",
      "* Customers may experience difficulty and frustration when trying to understand the repayment options and finance charges on their personal loans\n",
      "\n",
      "\n",
      "\n",
      "                                          chunk_text  \\\n",
      "0  . it doesn't help a customer to repay a $ loan...   \n",
      "1  i put in for a personal loan not knowing that ...   \n",
      "\n",
      "        Normalized Consumer complaint narrative_full  \n",
      "0  chime has a feature called mypay. mypay is a c...  \n",
      "1  i put in for a personal loan not knowing that ...  \n"
     ]
    }
   ],
   "source": [
    "# Question - 5\n",
    "response = agent.run(\"How do customers feel about repayment options on personal loans?\")\n",
    "retrieved = pipeline.search(\"How do customers feel about repayment options on personal loans?\", top_k=5, return_full_text=True)\n",
    "retrieved_chunks = retrieved[[\"chunk_text\", \"Normalized Consumer complaint narrative_full\"]].head(2)\n",
    "print(response)\n",
    "print(\"\\n\\n\")\n",
    "print(retrieved_chunks)"
   ]
  },
  {
   "cell_type": "code",
   "execution_count": 48,
   "metadata": {
    "execution": {
     "iopub.execute_input": "2025-07-07T21:53:53.275669Z",
     "iopub.status.busy": "2025-07-07T21:53:53.274958Z",
     "iopub.status.idle": "2025-07-07T21:54:13.173568Z",
     "shell.execute_reply": "2025-07-07T21:54:13.172931Z",
     "shell.execute_reply.started": "2025-07-07T21:53:53.275649Z"
    },
    "trusted": true
   },
   "outputs": [
    {
     "data": {
      "application/vnd.jupyter.widget-view+json": {
       "model_id": "7ae4aec6e5ae450fbb849745e0cc5bf2",
       "version_major": 2,
       "version_minor": 0
      },
      "text/plain": [
       "Batches:   0%|          | 0/1 [00:00<?, ?it/s]"
      ]
     },
     "metadata": {},
     "output_type": "display_data"
    },
    {
     "name": "stderr",
     "output_type": "stream",
     "text": [
      "Setting `pad_token_id` to `eos_token_id`:2 for open-end generation.\n"
     ]
    },
    {
     "data": {
      "application/vnd.jupyter.widget-view+json": {
       "model_id": "c27deb74b75c41359423acbcc686d11f",
       "version_major": 2,
       "version_minor": 0
      },
      "text/plain": [
       "Batches:   0%|          | 0/1 [00:00<?, ?it/s]"
      ]
     },
     "metadata": {},
     "output_type": "display_data"
    },
    {
     "name": "stdout",
     "output_type": "stream",
     "text": [
      "Credit experts and consumer advocacy groups have raised concerns about the inconsistent reporting practices of BNPL (Buy Now, Pay Later) companies, including Affirm. These companies’ failure to consistently report positive payment history could create an incomplete and damaging picture of a consumer’s creditworthiness.\n",
      "\n",
      "There is also evidence of misleading communication in credit card services. One customer reports being told by the company that if they could find more evidence from the businesses contacted, the company would look into it. However, the businesses only provided evidence to the company and not directly to the customer, which violated the spirit of transparency and potentially skirted regulatory obligations.\n",
      "\n",
      "\n",
      "\n",
      "                                          chunk_text  \\\n",
      "0  . 2. lack of consistent reporting standards : ...   \n",
      "1  . this sequence constitutes deceptive or misle...   \n",
      "\n",
      "        Normalized Consumer complaint narrative_full  \n",
      "0  1. unfair and inaccurate negative credit repor...  \n",
      "1  on year , i was notified by email that citi ha...  \n"
     ]
    }
   ],
   "source": [
    "# Question - 6\n",
    "response = agent.run(\"Is there evidence of misleading communication in BNPL or credit card services?\")\n",
    "retrieved = pipeline.search(\"Is there evidence of misleading communication in BNPL or credit card services?\", top_k=5, return_full_text=True)\n",
    "retrieved_chunks = retrieved[[\"chunk_text\", \"Normalized Consumer complaint narrative_full\"]].head(2)\n",
    "print(response)\n",
    "print(\"\\n\\n\")\n",
    "print(retrieved_chunks)"
   ]
  },
  {
   "cell_type": "code",
   "execution_count": 49,
   "metadata": {
    "execution": {
     "iopub.execute_input": "2025-07-07T21:55:47.323832Z",
     "iopub.status.busy": "2025-07-07T21:55:47.323530Z",
     "iopub.status.idle": "2025-07-07T21:56:16.504179Z",
     "shell.execute_reply": "2025-07-07T21:56:16.503499Z",
     "shell.execute_reply.started": "2025-07-07T21:55:47.323810Z"
    },
    "trusted": true
   },
   "outputs": [
    {
     "data": {
      "application/vnd.jupyter.widget-view+json": {
       "model_id": "991d703178564474802d13ce0c6ce055",
       "version_major": 2,
       "version_minor": 0
      },
      "text/plain": [
       "Batches:   0%|          | 0/1 [00:00<?, ?it/s]"
      ]
     },
     "metadata": {},
     "output_type": "display_data"
    },
    {
     "name": "stderr",
     "output_type": "stream",
     "text": [
      "Setting `pad_token_id` to `eos_token_id`:2 for open-end generation.\n"
     ]
    },
    {
     "data": {
      "application/vnd.jupyter.widget-view+json": {
       "model_id": "a4e5faf20f5d41a0bc9b0f31cd8e1d28",
       "version_major": 2,
       "version_minor": 0
      },
      "text/plain": [
       "Batches:   0%|          | 0/1 [00:00<?, ?it/s]"
      ]
     },
     "metadata": {},
     "output_type": "display_data"
    },
    {
     "name": "stdout",
     "output_type": "stream",
     "text": [
      "* Despite clearly stating their complaints, customers are often met with unhelpful response from their bank's support team\n",
      "* Poor communication and a lack of care from the bank\n",
      "* Customers are left without their money for an extended period of time\n",
      "* Interest on bills accumulates while they wait for resolution\n",
      "* Bank is dismissive of the customer's complaint and offers a simplistic solution\n",
      "* The bank's behavior is perceived as discriminatory and shameful, especially towards senior citizens\n",
      "* The bank is seen as incompetent or corrupt\n",
      "* The bank closes the customer's accounts as a result of filing a complaint\n",
      "* A violation of the customer's trust occurs when a bank employee steals from the customer\n",
      "* The customer is disciplined for the bank employee's mistake\n",
      "* Customers are frustrated with the bank's lack of transparency and accountability\n",
      "* The customer feels helpless and powerless against the bank\n",
      "* The bank's behavior has caused stress, both financial and mental, for the customer.\n",
      "\n",
      "\n",
      "\n",
      "                                          chunk_text  \\\n",
      "0  . chronically incompetent or pretentious compl...   \n",
      "1  . as i stated, english is not my native langua...   \n",
      "\n",
      "        Normalized Consumer complaint narrative_full  \n",
      "0  fraudulent bank statements. simple bank provid...  \n",
      "1  i am absolutely outraged at citizens bank 's f...  \n"
     ]
    }
   ],
   "source": [
    "# Question - 7\n",
    "response = agent.run(\"What patterns of frustration emerge from savings account complaints?\")\n",
    "retrieved = pipeline.search(\"What patterns of frustration emerge from savings account complaints?\", top_k=5, return_full_text=True)\n",
    "retrieved_chunks = retrieved[[\"chunk_text\", \"Normalized Consumer complaint narrative_full\"]].head(2)\n",
    "print(response)\n",
    "print(\"\\n\\n\")\n",
    "print(retrieved_chunks)"
   ]
  },
  {
   "cell_type": "code",
   "execution_count": 50,
   "metadata": {
    "execution": {
     "iopub.execute_input": "2025-07-07T22:02:58.009831Z",
     "iopub.status.busy": "2025-07-07T22:02:58.009061Z",
     "iopub.status.idle": "2025-07-07T22:03:23.155490Z",
     "shell.execute_reply": "2025-07-07T22:03:23.154751Z",
     "shell.execute_reply.started": "2025-07-07T22:02:58.009807Z"
    },
    "trusted": true
   },
   "outputs": [
    {
     "data": {
      "application/vnd.jupyter.widget-view+json": {
       "model_id": "3039fdd4e51f4afaa731a3858f8729a8",
       "version_major": 2,
       "version_minor": 0
      },
      "text/plain": [
       "Batches:   0%|          | 0/1 [00:00<?, ?it/s]"
      ]
     },
     "metadata": {},
     "output_type": "display_data"
    },
    {
     "name": "stderr",
     "output_type": "stream",
     "text": [
      "You seem to be using the pipelines sequentially on GPU. In order to maximize efficiency please use a dataset\n",
      "Setting `pad_token_id` to `eos_token_id`:2 for open-end generation.\n"
     ]
    },
    {
     "data": {
      "application/vnd.jupyter.widget-view+json": {
       "model_id": "6d444a72337340d29f09a3a8d21fc28d",
       "version_major": 2,
       "version_minor": 0
      },
      "text/plain": [
       "Batches:   0%|          | 0/1 [00:00<?, ?it/s]"
      ]
     },
     "metadata": {},
     "output_type": "display_data"
    },
    {
     "name": "stdout",
     "output_type": "stream",
     "text": [
      "* People dispute fees on money transfer platforms for various reasons.\n",
      "* One reason is the hidden fees in inflated exchange rates, which are added to the mid-market rate.\n",
      "* Another reason is the unsuccessful transfer of funds, leading to additional costs and delay in processing.\n",
      "* Lack of communication and understanding from customer service representatives also contributes to disputes.\n",
      "* Incentives for referrals may also contribute to disputes, as making the first transfer unsuccessful voids the reward and the free-of-bank-charge first transfer.\n",
      "* These issues may result in a loss of trust and confidence in money transfer platforms.\n",
      "\n",
      "The key issues mentioned in this context include hidden fees, communication breakdowns, and unsuccessful transfers, among others. These issues often result in frustration and a lack of trust in the platform, leading to disputes.\n",
      "\n",
      "\n",
      "\n",
      "                                          chunk_text  \\\n",
      "0  . i read about the complains other people has ...   \n",
      "1  . they just want to wash their hands of it and...   \n",
      "\n",
      "        Normalized Consumer complaint narrative_full  \n",
      "0  currently banking with bank of america, they g...  \n",
      "1  i had to file a series of disputes with venmo ...  \n"
     ]
    }
   ],
   "source": [
    "# Question - 8\n",
    "response = agent.run(\"Why do people dispute fees on money transfer platforms?\")\n",
    "retrieved = pipeline.search(\"Why do people dispute fees on money transfer platforms?\", top_k=5, return_full_text=True)\n",
    "retrieved_chunks = retrieved[[\"chunk_text\", \"Normalized Consumer complaint narrative_full\"]].head(2)\n",
    "print(response)\n",
    "print(\"\\n\\n\")\n",
    "print(retrieved_chunks)"
   ]
  },
  {
   "cell_type": "code",
   "execution_count": 51,
   "metadata": {
    "execution": {
     "iopub.execute_input": "2025-07-07T22:11:27.187759Z",
     "iopub.status.busy": "2025-07-07T22:11:27.187370Z",
     "iopub.status.idle": "2025-07-07T22:11:34.775248Z",
     "shell.execute_reply": "2025-07-07T22:11:34.774424Z",
     "shell.execute_reply.started": "2025-07-07T22:11:27.187736Z"
    },
    "trusted": true
   },
   "outputs": [
    {
     "data": {
      "application/vnd.jupyter.widget-view+json": {
       "model_id": "ac41e46d919149b9b5346fb63bdfeadc",
       "version_major": 2,
       "version_minor": 0
      },
      "text/plain": [
       "Batches:   0%|          | 0/1 [00:00<?, ?it/s]"
      ]
     },
     "metadata": {},
     "output_type": "display_data"
    },
    {
     "name": "stderr",
     "output_type": "stream",
     "text": [
      "Setting `pad_token_id` to `eos_token_id`:2 for open-end generation.\n"
     ]
    },
    {
     "data": {
      "application/vnd.jupyter.widget-view+json": {
       "model_id": "7de9122a13a34ce0be126dffbc5848b0",
       "version_major": 2,
       "version_minor": 0
      },
      "text/plain": [
       "Batches:   0%|          | 0/1 [00:00<?, ?it/s]"
      ]
     },
     "metadata": {},
     "output_type": "display_data"
    },
    {
     "name": "stdout",
     "output_type": "stream",
     "text": [
      "yes, loan customers have mentioned difficulties during the application process, specifically relating to system glitches and unclear information being provided by the bank's representatives.\n",
      "\n",
      "\n",
      "\n",
      "                                          chunk_text  \\\n",
      "0  . in both instances, i was told i was approved...   \n",
      "1  very bad service, the representative or so-cal...   \n",
      "\n",
      "        Normalized Consumer complaint narrative_full  \n",
      "0  to whom it may concern, i am filing a formal c...  \n",
      "1  very bad service, the representative or so-cal...  \n"
     ]
    }
   ],
   "source": [
    "# Question - 9\n",
    "response = agent.run(\"Do loan customers mention any difficulties during the application process?\")\n",
    "retrieved = pipeline.search(\"Do loan customers mention any difficulties during the application process?\", top_k=5, return_full_text=True)\n",
    "retrieved_chunks = retrieved[[\"chunk_text\", \"Normalized Consumer complaint narrative_full\"]].head(2)\n",
    "print(response)\n",
    "print(\"\\n\\n\")\n",
    "print(retrieved_chunks)\n"
   ]
  },
  {
   "cell_type": "markdown",
   "metadata": {},
   "source": [
    "| # | Question | Generated Answer | Retrieved Sources | Quality Score | Comments/Analysis |\n",
    "|---|----------|------------------|--------------------|----------------|-------------------|\n",
    "| 1 | Why are customers unhappy with BNPL(buy now pay later) services? | Customers are unhappy with BNPL services due to a lack of consistency in reporting standards, lack of transparency in pricing and fees, and exploitative marketing practices. These issues lead to financial and emotional burden for customers, with no concern for customer satisfaction or urgency to resolve issues. The CFPB is also investigating unfair practices in the BNPL sector. | - \"2. lack of consistent reporting standards...\"<br>- \"i don’t know what’s going on with companies no...\" | **4** | The model surfaced key themes like transparency and poor service with reasonable grounding. Some phrasing (e.g. “exploitative marketing”) is a bit strong compared to retrieved content. No direct use of exact phrases, but the grouping of issues feels aligned. Including a reference to the CFPB adds useful framing, though it might stretch slightly beyond the context. |\n",
    "| 2 | What issues do people commonly report about credit cards? | People commonly report issues such as poor customer service, incorrect account management, high interest rates and fees, unjustified limit decreases, and lack of flexibility in policies. | - \"I have used many credit cards, and I have never...\"<br>- \"And some other issues concerning the users c...\" | **5** | The answer captures multiple complaint themes with clear structure and matches the context. Well balanced, concise, and relevant. |\n",
    "| 3 | Are there shared complaints between personal loans and savings accounts? | Customers report shared complaints between personal loans and savings accounts, including confusion over advertised loan programs tied to savings products and improper handling of accounts post-bankruptcy. These concerns reflect misleading expectations and lack of transparency across both product types. | - \"I had a Wells Fargo checking and savings account...\"<br>- \"I have several savings accounts with them...\" | **4** | The response captures multi-product friction clearly. Condensed well, though chunk phrasing could be mirrored more closely for improved grounding. |\n",
    "| 4 | What problems do consumers face when using money transfer services? | - Inconvenient or undocumented transfers<br>- Weak customer protection policies<br>- Difficulty resolving transfer issues<br>- Reliability concerns with services like Zelle<br>- Risks of fraud and lost funds | - \"Overall, these issues highlight a potential...\"<br>- \"That can mean anything. Anyone’s guess could...\" | **4** | Clearly organized categories with solid topical coverage. Slight generalization in tone, and some phrasing lacks direct grounding in excerpts. |\n",
    "| 5 | How do customers feel about repayment options on personal loans? | - Repayment options are inflexible and burdensome<br>- High interest rates can mislead borrowers<br>- Customers often feel confused and frustrated by loan terms | - \"It doesn't help a customer to repay a $ loan...\"<br>- \"I put in for a personal loan not knowing that...\" | **5** | Answer reflects key frustrations with strong context alignment. Clear phrasing and well-structured summary. |\n",
    "| 6 | Is there evidence of misleading communication in BNPL or credit card services? | BNPL companies have been criticized for inconsistent reporting of payment history, which may misrepresent consumer creditworthiness. Credit card complaints include concerns about lack of transparency when dispute-related evidence is handled only by the provider, undermining trust and clarity. | - \"2. lack of consistent reporting standards...\"<br>- \"This sequence constitutes deceptive or misle...\" | **5** | Strong alignment with context and regulatory implications. Clear structure and factual phrasing add credibility. |\n",
    "| 7 | What patterns of frustration emerge from savings account complaints? | Customers express deep frustration with savings account services, often citing dismissive and unhelpful responses from support teams. They report feeling helpless and mistrusted, especially when errors caused by bank employees are redirected back onto them. Many describe being deprived of access to their own money for extended periods, leading to financial stress and accumulating interest charges. Some accounts reveal perceived discrimination — particularly against vulnerable groups like senior citizens — and the loss of trust when institutions fail to communicate transparently or resolve complaints compassionately. | - \"Chronically incompetent or pretentious compl...\"<br>- \"As I stated, English is not my native langua...\" | **4** | Thorough and issue-rich, with strong emotional signals. Could benefit from tighter grouping and more direct quotation of user phrasing. |\n",
    "| 8 | Why do people dispute fees on money transfer platforms? | - Hidden fees baked into exchange rates<br>- Failed or delayed transfers triggering extra costs<br>- Poor customer support and unclear communication<br>- Lost incentives from unsuccessful referral-linked transfers<br>- Erosion of trust due to unresolved disputes | - \"I read about the complaints other people has...\"<br>- \"They just want to wash their hands of it and...\" | **4** | Covers key drivers of fee disputes with solid structure. Slightly verbose in places, but aligns well with retrieved frustration themes. |\n",
    "| 9 | Do loan customers mention any difficulties during the application process? | Loan customers report system glitches and unclear or inconsistent information from bank representatives as key issues during the application process. These problems lead to confusion, delays, and diminished trust in the institutions. | - \"In both instances, I was told I was approved...\"<br>- \"Very bad service, the representative or so-called...\" | **4** | Clear summary of pain points with concise grounding. Could incorporate more direct phrase usage for stronger contextual anchoring. |"
   ]
  }
 ],
 "metadata": {
  "kaggle": {
   "accelerator": "nvidiaTeslaT4",
   "dataSources": [
    {
     "datasetId": 7815127,
     "sourceId": 12393409,
     "sourceType": "datasetVersion"
    }
   ],
   "dockerImageVersionId": 31041,
   "isGpuEnabled": true,
   "isInternetEnabled": true,
   "language": "python",
   "sourceType": "notebook"
  },
  "kernelspec": {
   "display_name": "Python 3",
   "language": "python",
   "name": "python3"
  },
  "language_info": {
   "codemirror_mode": {
    "name": "ipython",
    "version": 3
   },
   "file_extension": ".py",
   "mimetype": "text/x-python",
   "name": "python",
   "nbconvert_exporter": "python",
   "pygments_lexer": "ipython3",
   "version": "3.11.11"
  }
 },
 "nbformat": 4,
 "nbformat_minor": 4
}
