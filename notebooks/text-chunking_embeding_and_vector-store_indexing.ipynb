{
 "cells": [
  {
   "cell_type": "code",
   "execution_count": null,
   "metadata": {
    "execution": {
     "iopub.execute_input": "2025-07-06T22:03:29.057019Z",
     "iopub.status.busy": "2025-07-06T22:03:29.056422Z",
     "iopub.status.idle": "2025-07-06T22:03:29.061253Z",
     "shell.execute_reply": "2025-07-06T22:03:29.060427Z",
     "shell.execute_reply.started": "2025-07-06T22:03:29.056994Z"
    },
    "trusted": true
   },
   "outputs": [],
   "source": [
    "import warnings\n",
    "warnings.filterwarnings(\"ignore\")  # Ignore all warnings\n",
    "\n",
    "import pandas as pd\n",
    "import numpy as np\n",
    "from typing import List, Union\n",
    "from sentence_transformers import SentenceTransformer\n",
    "from langchain.text_splitter import RecursiveCharacterTextSplitter\n",
    "import faiss\n",
    "\n",
    "import os \n",
    "import sys\n",
    "sys.path.append(os.path.abspath(\"../src\"))\n",
    "from core.ComplaintVectorPipeline import ComplaintVectorPipeline"
   ]
  },
  {
   "cell_type": "code",
   "execution_count": null,
   "metadata": {
    "execution": {
     "iopub.execute_input": "2025-07-06T22:04:19.598759Z",
     "iopub.status.busy": "2025-07-06T22:04:19.598420Z",
     "iopub.status.idle": "2025-07-06T22:04:27.051087Z",
     "shell.execute_reply": "2025-07-06T22:04:27.050418Z",
     "shell.execute_reply.started": "2025-07-06T22:04:19.598736Z"
    },
    "trusted": true
   },
   "outputs": [
    {
     "name": "stdout",
     "output_type": "stream",
     "text": [
      "Data loaded Successfully ✅✅✅\n"
     ]
    }
   ],
   "source": [
    "initial_filtered_data = pd.read_csv(\"../data/processed/filtered_complaints.csv\")\n",
    "print(\"Data loaded Successfully ✅✅✅\")"
   ]
  },
  {
   "cell_type": "code",
   "execution_count": 25,
   "metadata": {
    "execution": {
     "iopub.execute_input": "2025-07-06T22:07:44.448486Z",
     "iopub.status.busy": "2025-07-06T22:07:44.448178Z",
     "iopub.status.idle": "2025-07-06T22:07:50.254362Z",
     "shell.execute_reply": "2025-07-06T22:07:50.253661Z",
     "shell.execute_reply.started": "2025-07-06T22:07:44.448466Z"
    },
    "trusted": true
   },
   "outputs": [
    {
     "data": {
      "application/vnd.jupyter.widget-view+json": {
       "model_id": "88e6da0a84784f1bbc82c5aac36524e3",
       "version_major": 2,
       "version_minor": 0
      },
      "text/plain": [
       "modules.json:   0%|          | 0.00/349 [00:00<?, ?B/s]"
      ]
     },
     "metadata": {},
     "output_type": "display_data"
    },
    {
     "data": {
      "application/vnd.jupyter.widget-view+json": {
       "model_id": "f0e3f83b3a9c41e0878c85b1ba9a3116",
       "version_major": 2,
       "version_minor": 0
      },
      "text/plain": [
       "config_sentence_transformers.json:   0%|          | 0.00/116 [00:00<?, ?B/s]"
      ]
     },
     "metadata": {},
     "output_type": "display_data"
    },
    {
     "data": {
      "application/vnd.jupyter.widget-view+json": {
       "model_id": "0448873fbfc044498f3f1ed00b9fa2da",
       "version_major": 2,
       "version_minor": 0
      },
      "text/plain": [
       "README.md: 0.00B [00:00, ?B/s]"
      ]
     },
     "metadata": {},
     "output_type": "display_data"
    },
    {
     "data": {
      "application/vnd.jupyter.widget-view+json": {
       "model_id": "98d8ccd7a90e4321a6b1cfda80055b74",
       "version_major": 2,
       "version_minor": 0
      },
      "text/plain": [
       "sentence_bert_config.json:   0%|          | 0.00/53.0 [00:00<?, ?B/s]"
      ]
     },
     "metadata": {},
     "output_type": "display_data"
    },
    {
     "data": {
      "application/vnd.jupyter.widget-view+json": {
       "model_id": "86b90e9122f2429d86a97082ab76f81f",
       "version_major": 2,
       "version_minor": 0
      },
      "text/plain": [
       "config.json:   0%|          | 0.00/612 [00:00<?, ?B/s]"
      ]
     },
     "metadata": {},
     "output_type": "display_data"
    },
    {
     "data": {
      "application/vnd.jupyter.widget-view+json": {
       "model_id": "72f7503b04e14f8b9620b52c73a1471f",
       "version_major": 2,
       "version_minor": 0
      },
      "text/plain": [
       "model.safetensors:   0%|          | 0.00/90.9M [00:00<?, ?B/s]"
      ]
     },
     "metadata": {},
     "output_type": "display_data"
    },
    {
     "data": {
      "application/vnd.jupyter.widget-view+json": {
       "model_id": "b0e173fe65b94186841bee1a082bf154",
       "version_major": 2,
       "version_minor": 0
      },
      "text/plain": [
       "tokenizer_config.json:   0%|          | 0.00/350 [00:00<?, ?B/s]"
      ]
     },
     "metadata": {},
     "output_type": "display_data"
    },
    {
     "data": {
      "application/vnd.jupyter.widget-view+json": {
       "model_id": "ed49df635163412c9934052f73462e73",
       "version_major": 2,
       "version_minor": 0
      },
      "text/plain": [
       "vocab.txt: 0.00B [00:00, ?B/s]"
      ]
     },
     "metadata": {},
     "output_type": "display_data"
    },
    {
     "data": {
      "application/vnd.jupyter.widget-view+json": {
       "model_id": "7ed62e6c03be4197bed7594e60be9f30",
       "version_major": 2,
       "version_minor": 0
      },
      "text/plain": [
       "tokenizer.json: 0.00B [00:00, ?B/s]"
      ]
     },
     "metadata": {},
     "output_type": "display_data"
    },
    {
     "data": {
      "application/vnd.jupyter.widget-view+json": {
       "model_id": "8074435b076a4fc0bc330c4f77373c50",
       "version_major": 2,
       "version_minor": 0
      },
      "text/plain": [
       "special_tokens_map.json:   0%|          | 0.00/112 [00:00<?, ?B/s]"
      ]
     },
     "metadata": {},
     "output_type": "display_data"
    },
    {
     "data": {
      "application/vnd.jupyter.widget-view+json": {
       "model_id": "9d45dcd8d7f945cf8d99caf2c6fb56ca",
       "version_major": 2,
       "version_minor": 0
      },
      "text/plain": [
       "config.json:   0%|          | 0.00/190 [00:00<?, ?B/s]"
      ]
     },
     "metadata": {},
     "output_type": "display_data"
    },
    {
     "name": "stdout",
     "output_type": "stream",
     "text": [
      "pipeline instantiated successfully✅✅✅\n"
     ]
    }
   ],
   "source": [
    "# Instantiate our pipeline\n",
    "pipeline = ComplaintVectorPipeline()\n",
    "print(\"pipeline instantiated successfully✅✅✅\")"
   ]
  },
  {
   "cell_type": "code",
   "execution_count": 26,
   "metadata": {
    "execution": {
     "iopub.execute_input": "2025-07-06T22:10:45.624063Z",
     "iopub.status.busy": "2025-07-06T22:10:45.623753Z",
     "iopub.status.idle": "2025-07-06T22:11:13.665408Z",
     "shell.execute_reply": "2025-07-06T22:11:13.664524Z",
     "shell.execute_reply.started": "2025-07-06T22:10:45.624044Z"
    },
    "trusted": true
   },
   "outputs": [
    {
     "name": "stdout",
     "output_type": "stream",
     "text": [
      "\n",
      "\n",
      "\n",
      "\n",
      " Preprocessing and Chunking Done✅✅✅\n"
     ]
    }
   ],
   "source": [
    "# Run the chunking process\n",
    "chunk_df = pipeline.preprocess_and_chunk(\n",
    "    initial_filtered_data,\n",
    "    text_column=\"Normalized Consumer complaint narrative\",\n",
    "    min_words=20,\n",
    "    metadata_fields=[]  # Leave this empty for now unless we want extra fields later\n",
    ")\n",
    "print(\"\\n\\n\\n\\n Preprocessing and Chunking Done✅✅✅\")"
   ]
  },
  {
   "cell_type": "code",
   "execution_count": 28,
   "metadata": {
    "execution": {
     "iopub.execute_input": "2025-07-06T22:14:43.132361Z",
     "iopub.status.busy": "2025-07-06T22:14:43.132066Z",
     "iopub.status.idle": "2025-07-06T22:14:43.143745Z",
     "shell.execute_reply": "2025-07-06T22:14:43.142938Z",
     "shell.execute_reply.started": "2025-07-06T22:14:43.132341Z"
    },
    "trusted": true
   },
   "outputs": [
    {
     "name": "stdout",
     "output_type": "stream",
     "text": [
      "(628990, 8)\n"
     ]
    },
    {
     "data": {
      "text/html": [
       "<div>\n",
       "<style scoped>\n",
       "    .dataframe tbody tr th:only-of-type {\n",
       "        vertical-align: middle;\n",
       "    }\n",
       "\n",
       "    .dataframe tbody tr th {\n",
       "        vertical-align: top;\n",
       "    }\n",
       "\n",
       "    .dataframe thead th {\n",
       "        text-align: right;\n",
       "    }\n",
       "</style>\n",
       "<table border=\"1\" class=\"dataframe\">\n",
       "  <thead>\n",
       "    <tr style=\"text-align: right;\">\n",
       "      <th></th>\n",
       "      <th>source_row</th>\n",
       "      <th>chunk_id</th>\n",
       "      <th>chunk_text</th>\n",
       "      <th>word_count</th>\n",
       "      <th>Complaint ID</th>\n",
       "      <th>Product</th>\n",
       "      <th>Issue</th>\n",
       "      <th>Sub-issue</th>\n",
       "    </tr>\n",
       "  </thead>\n",
       "  <tbody>\n",
       "    <tr>\n",
       "      <th>0</th>\n",
       "      <td>0</td>\n",
       "      <td>0</td>\n",
       "      <td>a card was opened under my name by a fraudster...</td>\n",
       "      <td>82</td>\n",
       "      <td>14069121</td>\n",
       "      <td>Credit card</td>\n",
       "      <td>Getting a credit card</td>\n",
       "      <td>Card opened without my consent or knowledge</td>\n",
       "    </tr>\n",
       "    <tr>\n",
       "      <th>1</th>\n",
       "      <td>1</td>\n",
       "      <td>0</td>\n",
       "      <td>i made the mistake of using my wellsfargo debi...</td>\n",
       "      <td>105</td>\n",
       "      <td>14061897</td>\n",
       "      <td>Savings account</td>\n",
       "      <td>Managing an account</td>\n",
       "      <td>Deposits and withdrawals</td>\n",
       "    </tr>\n",
       "    <tr>\n",
       "      <th>2</th>\n",
       "      <td>2</td>\n",
       "      <td>0</td>\n",
       "      <td>dear cfpb, i have a secured credit card with c...</td>\n",
       "      <td>156</td>\n",
       "      <td>14047085</td>\n",
       "      <td>Credit card</td>\n",
       "      <td>Other features, terms, or problems</td>\n",
       "      <td>Other problem</td>\n",
       "    </tr>\n",
       "    <tr>\n",
       "      <th>3</th>\n",
       "      <td>3</td>\n",
       "      <td>0</td>\n",
       "      <td>i have a citi rewards cards. the credit balanc...</td>\n",
       "      <td>136</td>\n",
       "      <td>14040217</td>\n",
       "      <td>Credit card</td>\n",
       "      <td>Incorrect information on your report</td>\n",
       "      <td>Account information incorrect</td>\n",
       "    </tr>\n",
       "    <tr>\n",
       "      <th>4</th>\n",
       "      <td>3</td>\n",
       "      <td>1</td>\n",
       "      <td>. i contacted them and all they said was consu...</td>\n",
       "      <td>107</td>\n",
       "      <td>14040217</td>\n",
       "      <td>Credit card</td>\n",
       "      <td>Incorrect information on your report</td>\n",
       "      <td>Account information incorrect</td>\n",
       "    </tr>\n",
       "    <tr>\n",
       "      <th>...</th>\n",
       "      <td>...</td>\n",
       "      <td>...</td>\n",
       "      <td>...</td>\n",
       "      <td>...</td>\n",
       "      <td>...</td>\n",
       "      <td>...</td>\n",
       "      <td>...</td>\n",
       "      <td>...</td>\n",
       "    </tr>\n",
       "    <tr>\n",
       "      <th>628985</th>\n",
       "      <td>327498</td>\n",
       "      <td>0</td>\n",
       "      <td>i already have a case , but it should not have...</td>\n",
       "      <td>138</td>\n",
       "      <td>6238646</td>\n",
       "      <td>Savings account</td>\n",
       "      <td>Managing an account</td>\n",
       "      <td>Deposits and withdrawals</td>\n",
       "    </tr>\n",
       "    <tr>\n",
       "      <th>628986</th>\n",
       "      <td>327498</td>\n",
       "      <td>1</td>\n",
       "      <td>. instead, the account was left open for multi...</td>\n",
       "      <td>143</td>\n",
       "      <td>6238646</td>\n",
       "      <td>Savings account</td>\n",
       "      <td>Managing an account</td>\n",
       "      <td>Deposits and withdrawals</td>\n",
       "    </tr>\n",
       "    <tr>\n",
       "      <th>628987</th>\n",
       "      <td>327498</td>\n",
       "      <td>2</td>\n",
       "      <td>. wells fargo was negligent in that regard sin...</td>\n",
       "      <td>132</td>\n",
       "      <td>6238646</td>\n",
       "      <td>Savings account</td>\n",
       "      <td>Managing an account</td>\n",
       "      <td>Deposits and withdrawals</td>\n",
       "    </tr>\n",
       "    <tr>\n",
       "      <th>628988</th>\n",
       "      <td>327498</td>\n",
       "      <td>3</td>\n",
       "      <td>. the consumer fraud comment from the associat...</td>\n",
       "      <td>141</td>\n",
       "      <td>6238646</td>\n",
       "      <td>Savings account</td>\n",
       "      <td>Managing an account</td>\n",
       "      <td>Deposits and withdrawals</td>\n",
       "    </tr>\n",
       "    <tr>\n",
       "      <th>628989</th>\n",
       "      <td>327498</td>\n",
       "      <td>4</td>\n",
       "      <td>. at this time i am not requesting damages, i ...</td>\n",
       "      <td>24</td>\n",
       "      <td>6238646</td>\n",
       "      <td>Savings account</td>\n",
       "      <td>Managing an account</td>\n",
       "      <td>Deposits and withdrawals</td>\n",
       "    </tr>\n",
       "  </tbody>\n",
       "</table>\n",
       "<p>628990 rows × 8 columns</p>\n",
       "</div>"
      ],
      "text/plain": [
       "        source_row  chunk_id  \\\n",
       "0                0         0   \n",
       "1                1         0   \n",
       "2                2         0   \n",
       "3                3         0   \n",
       "4                3         1   \n",
       "...            ...       ...   \n",
       "628985      327498         0   \n",
       "628986      327498         1   \n",
       "628987      327498         2   \n",
       "628988      327498         3   \n",
       "628989      327498         4   \n",
       "\n",
       "                                               chunk_text  word_count  \\\n",
       "0       a card was opened under my name by a fraudster...          82   \n",
       "1       i made the mistake of using my wellsfargo debi...         105   \n",
       "2       dear cfpb, i have a secured credit card with c...         156   \n",
       "3       i have a citi rewards cards. the credit balanc...         136   \n",
       "4       . i contacted them and all they said was consu...         107   \n",
       "...                                                   ...         ...   \n",
       "628985  i already have a case , but it should not have...         138   \n",
       "628986  . instead, the account was left open for multi...         143   \n",
       "628987  . wells fargo was negligent in that regard sin...         132   \n",
       "628988  . the consumer fraud comment from the associat...         141   \n",
       "628989  . at this time i am not requesting damages, i ...          24   \n",
       "\n",
       "        Complaint ID          Product                                 Issue  \\\n",
       "0           14069121      Credit card                 Getting a credit card   \n",
       "1           14061897  Savings account                   Managing an account   \n",
       "2           14047085      Credit card    Other features, terms, or problems   \n",
       "3           14040217      Credit card  Incorrect information on your report   \n",
       "4           14040217      Credit card  Incorrect information on your report   \n",
       "...              ...              ...                                   ...   \n",
       "628985       6238646  Savings account                   Managing an account   \n",
       "628986       6238646  Savings account                   Managing an account   \n",
       "628987       6238646  Savings account                   Managing an account   \n",
       "628988       6238646  Savings account                   Managing an account   \n",
       "628989       6238646  Savings account                   Managing an account   \n",
       "\n",
       "                                          Sub-issue  \n",
       "0       Card opened without my consent or knowledge  \n",
       "1                          Deposits and withdrawals  \n",
       "2                                     Other problem  \n",
       "3                     Account information incorrect  \n",
       "4                     Account information incorrect  \n",
       "...                                             ...  \n",
       "628985                     Deposits and withdrawals  \n",
       "628986                     Deposits and withdrawals  \n",
       "628987                     Deposits and withdrawals  \n",
       "628988                     Deposits and withdrawals  \n",
       "628989                     Deposits and withdrawals  \n",
       "\n",
       "[628990 rows x 8 columns]"
      ]
     },
     "execution_count": 28,
     "metadata": {},
     "output_type": "execute_result"
    }
   ],
   "source": [
    "# Display the chunked dataframe and its shape\n",
    "print(chunk_df.shape)\n",
    "chunk_df"
   ]
  },
  {
   "cell_type": "code",
   "execution_count": 29,
   "metadata": {
    "execution": {
     "iopub.execute_input": "2025-07-06T22:15:20.103468Z",
     "iopub.status.busy": "2025-07-06T22:15:20.103198Z",
     "iopub.status.idle": "2025-07-06T22:15:20.637314Z",
     "shell.execute_reply": "2025-07-06T22:15:20.636509Z",
     "shell.execute_reply.started": "2025-07-06T22:15:20.103449Z"
    },
    "trusted": true
   },
   "outputs": [
    {
     "data": {
      "text/html": [
       "<div>\n",
       "<style scoped>\n",
       "    .dataframe tbody tr th:only-of-type {\n",
       "        vertical-align: middle;\n",
       "    }\n",
       "\n",
       "    .dataframe tbody tr th {\n",
       "        vertical-align: top;\n",
       "    }\n",
       "\n",
       "    .dataframe thead th {\n",
       "        text-align: right;\n",
       "    }\n",
       "</style>\n",
       "<table border=\"1\" class=\"dataframe\">\n",
       "  <thead>\n",
       "    <tr style=\"text-align: right;\">\n",
       "      <th></th>\n",
       "      <th>Date received</th>\n",
       "      <th>Product</th>\n",
       "      <th>Sub-product</th>\n",
       "      <th>Issue</th>\n",
       "      <th>Sub-issue</th>\n",
       "      <th>Consumer complaint narrative</th>\n",
       "      <th>Company public response</th>\n",
       "      <th>Company</th>\n",
       "      <th>State</th>\n",
       "      <th>ZIP code</th>\n",
       "      <th>...</th>\n",
       "      <th>Submitted via</th>\n",
       "      <th>Date sent to company</th>\n",
       "      <th>Company response to consumer</th>\n",
       "      <th>Timely response?</th>\n",
       "      <th>Consumer disputed?</th>\n",
       "      <th>Complaint ID</th>\n",
       "      <th>word_count</th>\n",
       "      <th>Target_Product</th>\n",
       "      <th>Normalized Consumer complaint narrative</th>\n",
       "      <th>chunks</th>\n",
       "    </tr>\n",
       "  </thead>\n",
       "  <tbody>\n",
       "    <tr>\n",
       "      <th>0</th>\n",
       "      <td>2025-06-13</td>\n",
       "      <td>Credit card</td>\n",
       "      <td>Store credit card</td>\n",
       "      <td>Getting a credit card</td>\n",
       "      <td>Card opened without my consent or knowledge</td>\n",
       "      <td>A XXXX XXXX card was opened under my name by a...</td>\n",
       "      <td>Company has responded to the consumer and the ...</td>\n",
       "      <td>CITIBANK, N.A.</td>\n",
       "      <td>TX</td>\n",
       "      <td>78230</td>\n",
       "      <td>...</td>\n",
       "      <td>Web</td>\n",
       "      <td>2025-06-13</td>\n",
       "      <td>Closed with non-monetary relief</td>\n",
       "      <td>Yes</td>\n",
       "      <td>NaN</td>\n",
       "      <td>14069121</td>\n",
       "      <td>91</td>\n",
       "      <td>Credit card</td>\n",
       "      <td>a card was opened under my name by a fraudster...</td>\n",
       "      <td>[a card was opened under my name by a fraudste...</td>\n",
       "    </tr>\n",
       "    <tr>\n",
       "      <th>1</th>\n",
       "      <td>2025-06-13</td>\n",
       "      <td>Checking or savings account</td>\n",
       "      <td>Checking account</td>\n",
       "      <td>Managing an account</td>\n",
       "      <td>Deposits and withdrawals</td>\n",
       "      <td>I made the mistake of using my wellsfargo debi...</td>\n",
       "      <td>Company has responded to the consumer and the ...</td>\n",
       "      <td>WELLS FARGO &amp; COMPANY</td>\n",
       "      <td>ID</td>\n",
       "      <td>83815</td>\n",
       "      <td>...</td>\n",
       "      <td>Web</td>\n",
       "      <td>2025-06-13</td>\n",
       "      <td>Closed with explanation</td>\n",
       "      <td>Yes</td>\n",
       "      <td>NaN</td>\n",
       "      <td>14061897</td>\n",
       "      <td>109</td>\n",
       "      <td>Savings account</td>\n",
       "      <td>i made the mistake of using my wellsfargo debi...</td>\n",
       "      <td>[i made the mistake of using my wellsfargo deb...</td>\n",
       "    </tr>\n",
       "    <tr>\n",
       "      <th>2</th>\n",
       "      <td>2025-06-12</td>\n",
       "      <td>Credit card</td>\n",
       "      <td>General-purpose credit card or charge card</td>\n",
       "      <td>Other features, terms, or problems</td>\n",
       "      <td>Other problem</td>\n",
       "      <td>Dear CFPB, I have a secured credit card with c...</td>\n",
       "      <td>Company has responded to the consumer and the ...</td>\n",
       "      <td>CITIBANK, N.A.</td>\n",
       "      <td>NY</td>\n",
       "      <td>11220</td>\n",
       "      <td>...</td>\n",
       "      <td>Web</td>\n",
       "      <td>2025-06-13</td>\n",
       "      <td>Closed with monetary relief</td>\n",
       "      <td>Yes</td>\n",
       "      <td>NaN</td>\n",
       "      <td>14047085</td>\n",
       "      <td>156</td>\n",
       "      <td>Credit card</td>\n",
       "      <td>dear cfpb, i have a secured credit card with c...</td>\n",
       "      <td>[dear cfpb, i have a secured credit card with ...</td>\n",
       "    </tr>\n",
       "    <tr>\n",
       "      <th>3</th>\n",
       "      <td>2025-06-12</td>\n",
       "      <td>Credit card</td>\n",
       "      <td>General-purpose credit card or charge card</td>\n",
       "      <td>Incorrect information on your report</td>\n",
       "      <td>Account information incorrect</td>\n",
       "      <td>I have a Citi rewards cards. The credit balanc...</td>\n",
       "      <td>Company has responded to the consumer and the ...</td>\n",
       "      <td>CITIBANK, N.A.</td>\n",
       "      <td>IL</td>\n",
       "      <td>60067</td>\n",
       "      <td>...</td>\n",
       "      <td>Web</td>\n",
       "      <td>2025-06-12</td>\n",
       "      <td>Closed with explanation</td>\n",
       "      <td>Yes</td>\n",
       "      <td>NaN</td>\n",
       "      <td>14040217</td>\n",
       "      <td>233</td>\n",
       "      <td>Credit card</td>\n",
       "      <td>i have a citi rewards cards. the credit balanc...</td>\n",
       "      <td>[i have a citi rewards cards. the credit balan...</td>\n",
       "    </tr>\n",
       "    <tr>\n",
       "      <th>4</th>\n",
       "      <td>2025-06-09</td>\n",
       "      <td>Credit card</td>\n",
       "      <td>General-purpose credit card or charge card</td>\n",
       "      <td>Problem with a purchase shown on your statement</td>\n",
       "      <td>Credit card company isn't resolving a dispute ...</td>\n",
       "      <td>b'I am writing to dispute the following charge...</td>\n",
       "      <td>Company has responded to the consumer and the ...</td>\n",
       "      <td>CITIBANK, N.A.</td>\n",
       "      <td>TX</td>\n",
       "      <td>78413</td>\n",
       "      <td>...</td>\n",
       "      <td>Web</td>\n",
       "      <td>2025-06-09</td>\n",
       "      <td>Closed with monetary relief</td>\n",
       "      <td>Yes</td>\n",
       "      <td>NaN</td>\n",
       "      <td>13968411</td>\n",
       "      <td>454</td>\n",
       "      <td>Credit card</td>\n",
       "      <td>b'i am writing to dispute the following charge...</td>\n",
       "      <td>[b'i am writing to dispute the following charg...</td>\n",
       "    </tr>\n",
       "    <tr>\n",
       "      <th>...</th>\n",
       "      <td>...</td>\n",
       "      <td>...</td>\n",
       "      <td>...</td>\n",
       "      <td>...</td>\n",
       "      <td>...</td>\n",
       "      <td>...</td>\n",
       "      <td>...</td>\n",
       "      <td>...</td>\n",
       "      <td>...</td>\n",
       "      <td>...</td>\n",
       "      <td>...</td>\n",
       "      <td>...</td>\n",
       "      <td>...</td>\n",
       "      <td>...</td>\n",
       "      <td>...</td>\n",
       "      <td>...</td>\n",
       "      <td>...</td>\n",
       "      <td>...</td>\n",
       "      <td>...</td>\n",
       "      <td>...</td>\n",
       "      <td>...</td>\n",
       "    </tr>\n",
       "    <tr>\n",
       "      <th>327494</th>\n",
       "      <td>2022-11-24</td>\n",
       "      <td>Checking or savings account</td>\n",
       "      <td>Checking account</td>\n",
       "      <td>Managing an account</td>\n",
       "      <td>Deposits and withdrawals</td>\n",
       "      <td>US bank is holding a {$200.00} Check Deposit w...</td>\n",
       "      <td>Company has responded to the consumer and the ...</td>\n",
       "      <td>U.S. BANCORP</td>\n",
       "      <td>IN</td>\n",
       "      <td>47331</td>\n",
       "      <td>...</td>\n",
       "      <td>Web</td>\n",
       "      <td>2022-11-24</td>\n",
       "      <td>Closed with explanation</td>\n",
       "      <td>Yes</td>\n",
       "      <td>NaN</td>\n",
       "      <td>6237410</td>\n",
       "      <td>94</td>\n",
       "      <td>Savings account</td>\n",
       "      <td>us bank is holding a $ check deposit with no e...</td>\n",
       "      <td>[us bank is holding a $ check deposit with no ...</td>\n",
       "    </tr>\n",
       "    <tr>\n",
       "      <th>327495</th>\n",
       "      <td>2022-08-19</td>\n",
       "      <td>Checking or savings account</td>\n",
       "      <td>Checking account</td>\n",
       "      <td>Managing an account</td>\n",
       "      <td>Deposits and withdrawals</td>\n",
       "      <td>I had over 80 small charges, many were for the...</td>\n",
       "      <td>NaN</td>\n",
       "      <td>PNC Bank N.A.</td>\n",
       "      <td>KY</td>\n",
       "      <td>40205</td>\n",
       "      <td>...</td>\n",
       "      <td>Web</td>\n",
       "      <td>2022-08-19</td>\n",
       "      <td>Closed with explanation</td>\n",
       "      <td>Yes</td>\n",
       "      <td>NaN</td>\n",
       "      <td>5895804</td>\n",
       "      <td>118</td>\n",
       "      <td>Savings account</td>\n",
       "      <td>i had over 80 small charges, many were for the...</td>\n",
       "      <td>[i had over 80 small charges, many were for th...</td>\n",
       "    </tr>\n",
       "    <tr>\n",
       "      <th>327496</th>\n",
       "      <td>2022-06-06</td>\n",
       "      <td>Money transfer, virtual currency, or money ser...</td>\n",
       "      <td>Domestic (US) money transfer</td>\n",
       "      <td>Confusing or missing disclosures</td>\n",
       "      <td>NaN</td>\n",
       "      <td>I moved into XXXX XXXX XXXX  XXXX, owned, and ...</td>\n",
       "      <td>Company believes complaint represents an oppor...</td>\n",
       "      <td>Entrata Inc.</td>\n",
       "      <td>CA</td>\n",
       "      <td>922XX</td>\n",
       "      <td>...</td>\n",
       "      <td>Web</td>\n",
       "      <td>2022-06-06</td>\n",
       "      <td>Closed with monetary relief</td>\n",
       "      <td>Yes</td>\n",
       "      <td>NaN</td>\n",
       "      <td>5638610</td>\n",
       "      <td>387</td>\n",
       "      <td>Money transfers</td>\n",
       "      <td>i moved into , owned, and operated by on . eac...</td>\n",
       "      <td>[i moved into , owned, and operated by on . ea...</td>\n",
       "    </tr>\n",
       "    <tr>\n",
       "      <th>327497</th>\n",
       "      <td>2022-08-19</td>\n",
       "      <td>Money transfer, virtual currency, or money ser...</td>\n",
       "      <td>International money transfer</td>\n",
       "      <td>Other transaction problem</td>\n",
       "      <td>NaN</td>\n",
       "      <td>Hello, I'm an XXXX  of XXXX XXXX company that ...</td>\n",
       "      <td>Company has responded to the consumer and the ...</td>\n",
       "      <td>CITIBANK, N.A.</td>\n",
       "      <td>NaN</td>\n",
       "      <td>XXXXX</td>\n",
       "      <td>...</td>\n",
       "      <td>Web</td>\n",
       "      <td>2022-08-19</td>\n",
       "      <td>Closed with explanation</td>\n",
       "      <td>Yes</td>\n",
       "      <td>NaN</td>\n",
       "      <td>5896060</td>\n",
       "      <td>204</td>\n",
       "      <td>Money transfers</td>\n",
       "      <td>hello, i'm an of company that from and to . i ...</td>\n",
       "      <td>[hello, i'm an of company that from and to . i...</td>\n",
       "    </tr>\n",
       "    <tr>\n",
       "      <th>327498</th>\n",
       "      <td>2022-11-23</td>\n",
       "      <td>Checking or savings account</td>\n",
       "      <td>Savings account</td>\n",
       "      <td>Managing an account</td>\n",
       "      <td>Deposits and withdrawals</td>\n",
       "      <td>I already have a case XXXX, but it should not ...</td>\n",
       "      <td>Company has responded to the consumer and the ...</td>\n",
       "      <td>WELLS FARGO &amp; COMPANY</td>\n",
       "      <td>OK</td>\n",
       "      <td>73160</td>\n",
       "      <td>...</td>\n",
       "      <td>Web</td>\n",
       "      <td>2022-11-23</td>\n",
       "      <td>Closed with explanation</td>\n",
       "      <td>Yes</td>\n",
       "      <td>NaN</td>\n",
       "      <td>6238646</td>\n",
       "      <td>610</td>\n",
       "      <td>Savings account</td>\n",
       "      <td>i already have a case , but it should not have...</td>\n",
       "      <td>[i already have a case , but it should not hav...</td>\n",
       "    </tr>\n",
       "  </tbody>\n",
       "</table>\n",
       "<p>327499 rows × 22 columns</p>\n",
       "</div>"
      ],
      "text/plain": [
       "       Date received                                            Product  \\\n",
       "0         2025-06-13                                        Credit card   \n",
       "1         2025-06-13                        Checking or savings account   \n",
       "2         2025-06-12                                        Credit card   \n",
       "3         2025-06-12                                        Credit card   \n",
       "4         2025-06-09                                        Credit card   \n",
       "...              ...                                                ...   \n",
       "327494    2022-11-24                        Checking or savings account   \n",
       "327495    2022-08-19                        Checking or savings account   \n",
       "327496    2022-06-06  Money transfer, virtual currency, or money ser...   \n",
       "327497    2022-08-19  Money transfer, virtual currency, or money ser...   \n",
       "327498    2022-11-23                        Checking or savings account   \n",
       "\n",
       "                                       Sub-product  \\\n",
       "0                                Store credit card   \n",
       "1                                 Checking account   \n",
       "2       General-purpose credit card or charge card   \n",
       "3       General-purpose credit card or charge card   \n",
       "4       General-purpose credit card or charge card   \n",
       "...                                            ...   \n",
       "327494                            Checking account   \n",
       "327495                            Checking account   \n",
       "327496                Domestic (US) money transfer   \n",
       "327497                International money transfer   \n",
       "327498                             Savings account   \n",
       "\n",
       "                                                  Issue  \\\n",
       "0                                 Getting a credit card   \n",
       "1                                   Managing an account   \n",
       "2                    Other features, terms, or problems   \n",
       "3                  Incorrect information on your report   \n",
       "4       Problem with a purchase shown on your statement   \n",
       "...                                                 ...   \n",
       "327494                              Managing an account   \n",
       "327495                              Managing an account   \n",
       "327496                 Confusing or missing disclosures   \n",
       "327497                        Other transaction problem   \n",
       "327498                              Managing an account   \n",
       "\n",
       "                                                Sub-issue  \\\n",
       "0             Card opened without my consent or knowledge   \n",
       "1                                Deposits and withdrawals   \n",
       "2                                           Other problem   \n",
       "3                           Account information incorrect   \n",
       "4       Credit card company isn't resolving a dispute ...   \n",
       "...                                                   ...   \n",
       "327494                           Deposits and withdrawals   \n",
       "327495                           Deposits and withdrawals   \n",
       "327496                                                NaN   \n",
       "327497                                                NaN   \n",
       "327498                           Deposits and withdrawals   \n",
       "\n",
       "                             Consumer complaint narrative  \\\n",
       "0       A XXXX XXXX card was opened under my name by a...   \n",
       "1       I made the mistake of using my wellsfargo debi...   \n",
       "2       Dear CFPB, I have a secured credit card with c...   \n",
       "3       I have a Citi rewards cards. The credit balanc...   \n",
       "4       b'I am writing to dispute the following charge...   \n",
       "...                                                   ...   \n",
       "327494  US bank is holding a {$200.00} Check Deposit w...   \n",
       "327495  I had over 80 small charges, many were for the...   \n",
       "327496  I moved into XXXX XXXX XXXX  XXXX, owned, and ...   \n",
       "327497  Hello, I'm an XXXX  of XXXX XXXX company that ...   \n",
       "327498  I already have a case XXXX, but it should not ...   \n",
       "\n",
       "                                  Company public response  \\\n",
       "0       Company has responded to the consumer and the ...   \n",
       "1       Company has responded to the consumer and the ...   \n",
       "2       Company has responded to the consumer and the ...   \n",
       "3       Company has responded to the consumer and the ...   \n",
       "4       Company has responded to the consumer and the ...   \n",
       "...                                                   ...   \n",
       "327494  Company has responded to the consumer and the ...   \n",
       "327495                                                NaN   \n",
       "327496  Company believes complaint represents an oppor...   \n",
       "327497  Company has responded to the consumer and the ...   \n",
       "327498  Company has responded to the consumer and the ...   \n",
       "\n",
       "                      Company State ZIP code  ... Submitted via  \\\n",
       "0              CITIBANK, N.A.    TX    78230  ...           Web   \n",
       "1       WELLS FARGO & COMPANY    ID    83815  ...           Web   \n",
       "2              CITIBANK, N.A.    NY    11220  ...           Web   \n",
       "3              CITIBANK, N.A.    IL    60067  ...           Web   \n",
       "4              CITIBANK, N.A.    TX    78413  ...           Web   \n",
       "...                       ...   ...      ...  ...           ...   \n",
       "327494           U.S. BANCORP    IN    47331  ...           Web   \n",
       "327495          PNC Bank N.A.    KY    40205  ...           Web   \n",
       "327496           Entrata Inc.    CA    922XX  ...           Web   \n",
       "327497         CITIBANK, N.A.   NaN    XXXXX  ...           Web   \n",
       "327498  WELLS FARGO & COMPANY    OK    73160  ...           Web   \n",
       "\n",
       "       Date sent to company     Company response to consumer Timely response?  \\\n",
       "0                2025-06-13  Closed with non-monetary relief              Yes   \n",
       "1                2025-06-13          Closed with explanation              Yes   \n",
       "2                2025-06-13      Closed with monetary relief              Yes   \n",
       "3                2025-06-12          Closed with explanation              Yes   \n",
       "4                2025-06-09      Closed with monetary relief              Yes   \n",
       "...                     ...                              ...              ...   \n",
       "327494           2022-11-24          Closed with explanation              Yes   \n",
       "327495           2022-08-19          Closed with explanation              Yes   \n",
       "327496           2022-06-06      Closed with monetary relief              Yes   \n",
       "327497           2022-08-19          Closed with explanation              Yes   \n",
       "327498           2022-11-23          Closed with explanation              Yes   \n",
       "\n",
       "       Consumer disputed? Complaint ID word_count   Target_Product  \\\n",
       "0                     NaN     14069121         91      Credit card   \n",
       "1                     NaN     14061897        109  Savings account   \n",
       "2                     NaN     14047085        156      Credit card   \n",
       "3                     NaN     14040217        233      Credit card   \n",
       "4                     NaN     13968411        454      Credit card   \n",
       "...                   ...          ...        ...              ...   \n",
       "327494                NaN      6237410         94  Savings account   \n",
       "327495                NaN      5895804        118  Savings account   \n",
       "327496                NaN      5638610        387  Money transfers   \n",
       "327497                NaN      5896060        204  Money transfers   \n",
       "327498                NaN      6238646        610  Savings account   \n",
       "\n",
       "                  Normalized Consumer complaint narrative  \\\n",
       "0       a card was opened under my name by a fraudster...   \n",
       "1       i made the mistake of using my wellsfargo debi...   \n",
       "2       dear cfpb, i have a secured credit card with c...   \n",
       "3       i have a citi rewards cards. the credit balanc...   \n",
       "4       b'i am writing to dispute the following charge...   \n",
       "...                                                   ...   \n",
       "327494  us bank is holding a $ check deposit with no e...   \n",
       "327495  i had over 80 small charges, many were for the...   \n",
       "327496  i moved into , owned, and operated by on . eac...   \n",
       "327497  hello, i'm an of company that from and to . i ...   \n",
       "327498  i already have a case , but it should not have...   \n",
       "\n",
       "                                                   chunks  \n",
       "0       [a card was opened under my name by a fraudste...  \n",
       "1       [i made the mistake of using my wellsfargo deb...  \n",
       "2       [dear cfpb, i have a secured credit card with ...  \n",
       "3       [i have a citi rewards cards. the credit balan...  \n",
       "4       [b'i am writing to dispute the following charg...  \n",
       "...                                                   ...  \n",
       "327494  [us bank is holding a $ check deposit with no ...  \n",
       "327495  [i had over 80 small charges, many were for th...  \n",
       "327496  [i moved into , owned, and operated by on . ea...  \n",
       "327497  [hello, i'm an of company that from and to . i...  \n",
       "327498  [i already have a case , but it should not hav...  \n",
       "\n",
       "[327499 rows x 22 columns]"
      ]
     },
     "execution_count": 29,
     "metadata": {},
     "output_type": "execute_result"
    }
   ],
   "source": [
    "# The new cleaned filtered complaints dataframe which includes only complaints greater than 20 word count\n",
    "pipeline.filtered_df"
   ]
  },
  {
   "cell_type": "code",
   "execution_count": 32,
   "metadata": {
    "execution": {
     "iopub.execute_input": "2025-07-06T22:25:46.908276Z",
     "iopub.status.busy": "2025-07-06T22:25:46.907588Z",
     "iopub.status.idle": "2025-07-06T22:41:47.937345Z",
     "shell.execute_reply": "2025-07-06T22:41:47.936658Z",
     "shell.execute_reply.started": "2025-07-06T22:25:46.908249Z"
    },
    "trusted": true
   },
   "outputs": [
    {
     "data": {
      "application/vnd.jupyter.widget-view+json": {
       "model_id": "06f8388d79d44230a2af54ce8e764fac",
       "version_major": 2,
       "version_minor": 0
      },
      "text/plain": [
       "Batches:   0%|          | 0/9828 [00:00<?, ?it/s]"
      ]
     },
     "metadata": {},
     "output_type": "display_data"
    },
    {
     "name": "stdout",
     "output_type": "stream",
     "text": [
      "Embedding Done✅✅✅\n"
     ]
    }
   ],
   "source": [
    "# Lets embed our chunked text\n",
    "embeddings = pipeline.embed_chunks()\n",
    "print(\"Embedding Done✅✅✅\")"
   ]
  },
  {
   "cell_type": "code",
   "execution_count": 33,
   "metadata": {
    "execution": {
     "iopub.execute_input": "2025-07-06T22:44:27.655957Z",
     "iopub.status.busy": "2025-07-06T22:44:27.655334Z",
     "iopub.status.idle": "2025-07-06T22:44:27.660857Z",
     "shell.execute_reply": "2025-07-06T22:44:27.660197Z",
     "shell.execute_reply.started": "2025-07-06T22:44:27.655935Z"
    },
    "trusted": true
   },
   "outputs": [
    {
     "name": "stdout",
     "output_type": "stream",
     "text": [
      "[-0.042777352035045624, 0.025624385103583336, -0.07883816957473755, 0.022501634433865547, -0.009484909474849701]\n",
      "Embedding shape: 384\n"
     ]
    }
   ],
   "source": [
    "print(pipeline.chunk_df[\"embedding\"].iloc[0][:5])  # preview first 5 dims of first embedding\n",
    "print(f\"Embedding shape: {len(pipeline.chunk_df['embedding'][0])}\")"
   ]
  },
  {
   "cell_type": "code",
   "execution_count": 35,
   "metadata": {
    "execution": {
     "iopub.execute_input": "2025-07-06T22:50:28.790903Z",
     "iopub.status.busy": "2025-07-06T22:50:28.790571Z",
     "iopub.status.idle": "2025-07-06T22:50:28.800643Z",
     "shell.execute_reply": "2025-07-06T22:50:28.799903Z",
     "shell.execute_reply.started": "2025-07-06T22:50:28.790882Z"
    },
    "trusted": true
   },
   "outputs": [
    {
     "data": {
      "text/plain": [
       "0         [-0.042777352035045624, 0.025624385103583336, ...\n",
       "1         [-0.04982152208685875, 0.08977359533309937, 0....\n",
       "2         [-0.035176705569028854, 0.011623036116361618, ...\n",
       "3         [-0.08906636387109756, 0.03862784057855606, -0...\n",
       "4         [-0.03665914759039879, -0.02310161292552948, 0...\n",
       "                                ...                        \n",
       "628985    [-0.04320886358618736, -0.021847466006875038, ...\n",
       "628986    [-0.052816007286310196, -0.012807104736566544,...\n",
       "628987    [-0.06271518766880035, 0.01023461390286684, 0....\n",
       "628988    [-0.10470777750015259, -0.004357500467449427, ...\n",
       "628989    [-0.053923919796943665, 0.13369841873645782, 0...\n",
       "Name: embedding, Length: 628990, dtype: object"
      ]
     },
     "execution_count": 35,
     "metadata": {},
     "output_type": "execute_result"
    }
   ],
   "source": [
    "#Display the embedding of the chunk_df\n",
    "pipeline.chunk_df[\"embedding\"]"
   ]
  },
  {
   "cell_type": "code",
   "execution_count": 36,
   "metadata": {
    "execution": {
     "iopub.execute_input": "2025-07-06T22:52:49.483283Z",
     "iopub.status.busy": "2025-07-06T22:52:49.482990Z",
     "iopub.status.idle": "2025-07-06T22:53:06.537993Z",
     "shell.execute_reply": "2025-07-06T22:53:06.537150Z",
     "shell.execute_reply.started": "2025-07-06T22:52:49.483262Z"
    },
    "trusted": true
   },
   "outputs": [],
   "source": [
    "# Build the FAISS index using the embedded vectors\n",
    "faiss_index = pipeline.build_faiss_index()"
   ]
  },
  {
   "cell_type": "code",
   "execution_count": 37,
   "metadata": {
    "execution": {
     "iopub.execute_input": "2025-07-06T22:54:33.005638Z",
     "iopub.status.busy": "2025-07-06T22:54:33.005310Z",
     "iopub.status.idle": "2025-07-06T22:54:33.010640Z",
     "shell.execute_reply": "2025-07-06T22:54:33.009942Z",
     "shell.execute_reply.started": "2025-07-06T22:54:33.005587Z"
    },
    "trusted": true
   },
   "outputs": [
    {
     "name": "stdout",
     "output_type": "stream",
     "text": [
      "🔍 FAISS index built: True\n",
      "   → Total vectors in index: 628990\n",
      "   → Expected vector shape: 384\n"
     ]
    }
   ],
   "source": [
    "# Check if indexing was successfully done \n",
    "print(\"🔍 FAISS index built:\", isinstance(pipeline.index, faiss.IndexFlatIP))\n",
    "print(\"   → Total vectors in index:\", pipeline.index.ntotal)\n",
    "print(\"   → Expected vector shape:\", pipeline.index.d)"
   ]
  },
  {
   "cell_type": "code",
   "execution_count": 38,
   "metadata": {
    "execution": {
     "iopub.execute_input": "2025-07-06T22:56:20.381976Z",
     "iopub.status.busy": "2025-07-06T22:56:20.381217Z",
     "iopub.status.idle": "2025-07-06T22:56:20.386228Z",
     "shell.execute_reply": "2025-07-06T22:56:20.385499Z",
     "shell.execute_reply.started": "2025-07-06T22:56:20.381943Z"
    },
    "trusted": true
   },
   "outputs": [
    {
     "name": "stdout",
     "output_type": "stream",
     "text": [
      "📊 Sample embedding (first 5 dims): [-0.042777352035045624, 0.025624385103583336, -0.07883816957473755, 0.022501634433865547, -0.009484909474849701]\n",
      "   → Vector length: 384\n"
     ]
    }
   ],
   "source": [
    "# Check for Embedding\n",
    "print(\"📊 Sample embedding (first 5 dims):\", pipeline.chunk_df[\"embedding\"].iloc[0][:5])\n",
    "print(\"   → Vector length:\", len(pipeline.chunk_df[\"embedding\"].iloc[0]))"
   ]
  },
  {
   "cell_type": "code",
   "execution_count": 39,
   "metadata": {
    "execution": {
     "iopub.execute_input": "2025-07-06T22:56:53.354013Z",
     "iopub.status.busy": "2025-07-06T22:56:53.353471Z",
     "iopub.status.idle": "2025-07-06T22:56:53.390651Z",
     "shell.execute_reply": "2025-07-06T22:56:53.390035Z",
     "shell.execute_reply.started": "2025-07-06T22:56:53.353989Z"
    },
    "trusted": true
   },
   "outputs": [
    {
     "name": "stdout",
     "output_type": "stream",
     "text": [
      "chunk_df shape: (628990, 9)\n",
      "Columns: ['source_row', 'chunk_id', 'chunk_text', 'word_count', 'Complaint ID', 'Product', 'Issue', 'Sub-issue', 'embedding']\n",
      "Sample metadata row:\n",
      "        chunk_id  source_row  Complaint ID      Product  \\\n",
      "198443         1      117267       8130916  Credit card   \n",
      "\n",
      "                                                  Issue  \n",
      "198443  Problem with a purchase shown on your statement  \n"
     ]
    }
   ],
   "source": [
    "# Dataframe Preview\n",
    "print(\"chunk_df shape:\", pipeline.chunk_df.shape)\n",
    "print(\"Columns:\", list(pipeline.chunk_df.columns))\n",
    "print(\"Sample metadata row:\")\n",
    "print(pipeline.chunk_df[[\"chunk_id\", \"source_row\", \"Complaint ID\", \"Product\", \"Issue\"]].sample(1))"
   ]
  },
  {
   "cell_type": "code",
   "execution_count": null,
   "metadata": {
    "execution": {
     "iopub.execute_input": "2025-07-06T23:00:32.774786Z",
     "iopub.status.busy": "2025-07-06T23:00:32.774373Z",
     "iopub.status.idle": "2025-07-06T23:06:08.569241Z",
     "shell.execute_reply": "2025-07-06T23:06:08.568435Z",
     "shell.execute_reply.started": "2025-07-06T23:00:32.774764Z"
    },
    "trusted": true
   },
   "outputs": [
    {
     "name": "stdout",
     "output_type": "stream",
     "text": [
      "Dataframes and Indexes saved successfully\n"
     ]
    }
   ],
   "source": [
    "#save all the Dataframes and Indexes for future query handling\n",
    "# Save the FAISS index\n",
    "pipeline.save_index(\"../data/processed/complaints_index.faiss\")\n",
    "\n",
    "# Save the chunked DataFrame with embeddings + metadata\n",
    "pipeline.save_chunk_df(\"../data/processed/chunked_complaints.csv\")\n",
    "\n",
    "# Save the filtered (post-cleaning) complaint narratives\n",
    "pipeline.filtered_df.to_csv(\"../data/processed/final_filtered_complaints.csv\", index=False)\n",
    "print(\"Dataframes and Indexes saved successfully\")"
   ]
  },
  {
   "cell_type": "code",
   "execution_count": 41,
   "metadata": {
    "execution": {
     "iopub.execute_input": "2025-07-06T23:11:09.623044Z",
     "iopub.status.busy": "2025-07-06T23:11:09.622248Z",
     "iopub.status.idle": "2025-07-06T23:11:09.846789Z",
     "shell.execute_reply": "2025-07-06T23:11:09.846178Z",
     "shell.execute_reply.started": "2025-07-06T23:11:09.623018Z"
    },
    "trusted": true
   },
   "outputs": [
    {
     "data": {
      "application/vnd.jupyter.widget-view+json": {
       "model_id": "5371945643b34c9dadcbfed0f40194d9",
       "version_major": 2,
       "version_minor": 0
      },
      "text/plain": [
       "Batches:   0%|          | 0/1 [00:00<?, ?it/s]"
      ]
     },
     "metadata": {},
     "output_type": "display_data"
    },
    {
     "name": "stdout",
     "output_type": "stream",
     "text": [
      "chunk_text    double charged me twice in the same day for on...\n",
      "Product                                         Savings account\n",
      "Issue                                       Managing an account\n",
      "similarity                                             0.748645\n",
      "Name: 161892, dtype: object\n"
     ]
    }
   ],
   "source": [
    "# Let's look at a demo illustration of Querry handling\n",
    "# Example querry \n",
    "query = \"I was charged twice for a payment I never made\"\n",
    "# Feed to pipline\n",
    "# The Pipline will encode the querry-> create normalized vecto\n",
    "# Search Fassi index\n",
    "# Return the top % semantically similar chunks as a dataframe\n",
    "results = pipeline.search(query, top_k=5)\n",
    "#inspect top matches\n",
    "print(results[[\"chunk_text\", \"Product\", \"Issue\", \"similarity\"]].iloc[0])\n"
   ]
  },
  {
   "cell_type": "code",
   "execution_count": 42,
   "metadata": {
    "execution": {
     "iopub.execute_input": "2025-07-06T23:11:34.945375Z",
     "iopub.status.busy": "2025-07-06T23:11:34.944843Z",
     "iopub.status.idle": "2025-07-06T23:11:34.952080Z",
     "shell.execute_reply": "2025-07-06T23:11:34.951327Z",
     "shell.execute_reply.started": "2025-07-06T23:11:34.945352Z"
    },
    "trusted": true
   },
   "outputs": [
    {
     "name": "stdout",
     "output_type": "stream",
     "text": [
      "\n",
      "🧩 Match 161893 — Similarity: 0.7486\n",
      "Issue: Managing an account\n",
      "Product: Savings account\n",
      "Chunk: double charged me twice in the same day for one bill. asked my bank to stop on payment. i was told to call but they never reimbursed my funds. ...\n",
      "\n",
      "🧩 Match 139489 — Similarity: 0.7375\n",
      "Issue: Billing disputes\n",
      "Product: Credit card\n",
      "Chunk: . refuse to do anything about the charge. i think this is an abusive practice. for a missed payment of about $ where i never got the statement i have already paid $ in fees and $ in interest, then on an over paid account more interest is charged. ...\n",
      "\n",
      "🧩 Match 38181 — Similarity: 0.7355\n",
      "Issue: Problem with a purchase shown on your statement\n",
      "Product: Credit card\n",
      "Chunk: . i explained the situation and they informed me im past the date to dispute!!!! i do not believe i should be penalized for a charge i 1 did not make and 2 was informed not to make any payments. please help. ...\n",
      "\n",
      "🧩 Match 344775 — Similarity: 0.7308\n",
      "Issue: Problem with a lender or other company charging your account\n",
      "Product: Savings account\n",
      "Chunk: . then on i was charged $ for a transaction that occurred months ago so i was charged twice once when i originally made the purchase and again on which was almost my whole check so due to them taking my money i cant get to work or pay my bills. please not that the screenshot of the transaction with  ...\n",
      "\n",
      "🧩 Match 295674 — Similarity: 0.7291\n",
      "Issue: Problem caused by your funds being low\n",
      "Product: Savings account\n",
      "Chunk: always seem like i was being charged twice for things. like i can make a purchase i can see the money taking off then but later i check again was charged again. i mention this before but i could never get an correct answer. ...\n"
     ]
    }
   ],
   "source": [
    "# Or preview all matches\n",
    "for i, row in results.iterrows():\n",
    "    print(f\"\\n🧩 Match {i+1} — Similarity: {row['similarity']:.4f}\")\n",
    "    print(f\"Issue: {row['Issue']}\")\n",
    "    print(f\"Product: {row['Product']}\")\n",
    "    print(\"Chunk:\", row[\"chunk_text\"][:300], \"...\")"
   ]
  },
  {
   "cell_type": "markdown",
   "metadata": {},
   "source": [
    "# Text Chunking, Embedding, and Vector Store Indexing Notebook Summary\n",
    "\n",
    "This notebook demonstrates the full pipeline for transforming cleaned consumer complaint narratives into a searchable vector database, enabling efficient semantic search over complaint data. The process leverages modern NLP and vector search libraries to chunk, embed, index, and query complaint texts.\n",
    "\n",
    "## 1. Environment Setup\n",
    "\n",
    "All required dependencies are installed at the start, including:\n",
    "- `pandas` and `numpy` for data handling,\n",
    "- `sentence-transformers` for generating dense text embeddings,\n",
    "- `langchain` for advanced text chunking,\n",
    "- `faiss-cpu` for fast vector similarity search.\n",
    "\n",
    "## 2. Data Loading and Pipeline Initialization\n",
    "\n",
    "The notebook loads the preprocessed complaints dataset (`filtered_complaints.csv`), which contains normalized complaint narratives and relevant metadata. The custom `ComplaintVectorPipeline` class is instantiated, encapsulating all logic for chunking, embedding, and indexing.\n",
    "\n",
    "## 3. Text Chunking\n",
    "\n",
    "Using the pipeline, each complaint narrative is split into overlapping text chunks (default: 800 characters with 100-character overlap). Only complaints with at least 20 words are included, ensuring meaningful content in each chunk. The resulting `chunk_df` contains one row per chunk, with metadata such as the original complaint ID, product, issue, and chunk order. The shape and sample rows of this chunked DataFrame are displayed for verification.\n",
    "\n",
    "## 4. Embedding and Indexing\n",
    "\n",
    "Each chunk is embedded into a 384-dimensional vector using the `all-MiniLM-L6-v2` model from Sentence Transformers. Embeddings are normalized for cosine similarity. The notebook previews the first few dimensions of a sample embedding and confirms the expected vector length. All chunk embeddings are then indexed using FAISS (`IndexFlatIP`), enabling efficient inner product (cosine) similarity search. The notebook verifies the index type, total vectors indexed, and vector dimensionality.\n",
    "\n",
    "## 5. Saving Artifacts\n",
    "\n",
    "To support future querying and reproducibility, the following artifacts are saved:\n",
    "- The FAISS index (`complaints_index.faiss`)\n",
    "- The chunked DataFrame with embeddings and metadata (`chunked_complaints.csv`)\n",
    "- The filtered complaints DataFrame (`final_filtered_complaints.csv`)\n",
    "\n",
    "## 6. Semantic Search Demo\n",
    "\n",
    "A sample query (\"I was charged twice for a payment I never made\") is encoded and searched against the FAISS index. The pipeline returns the top 5 most semantically similar complaint chunks, displaying their text, product, issue, and similarity score. The notebook also iterates through all matches, printing their details for inspection.\n",
    "\n",
    "---\n",
    "\n",
    "## Key Takeaways\n",
    "\n",
    "- The notebook provides a robust, end-to-end workflow for transforming complaint narratives into a vector-searchable format.\n",
    "- All steps, from chunking to embedding and indexing, are automated and reproducible.\n",
    "- The resulting system enables fast, semantic search over large collections of complaint data, supporting advanced analytics and retrieval use cases in Financial Services"
   ]
  },
  {
   "cell_type": "markdown",
   "metadata": {},
   "source": []
  }
 ],
 "metadata": {
  "kaggle": {
   "accelerator": "nvidiaTeslaT4",
   "dataSources": [
    {
     "datasetId": 7814623,
     "sourceId": 12392644,
     "sourceType": "datasetVersion"
    }
   ],
   "dockerImageVersionId": 31041,
   "isGpuEnabled": true,
   "isInternetEnabled": true,
   "language": "python",
   "sourceType": "notebook"
  },
  "kernelspec": {
   "display_name": "Python 3",
   "language": "python",
   "name": "python3"
  },
  "language_info": {
   "codemirror_mode": {
    "name": "ipython",
    "version": 3
   },
   "file_extension": ".py",
   "mimetype": "text/x-python",
   "name": "python",
   "nbconvert_exporter": "python",
   "pygments_lexer": "ipython3",
   "version": "3.11.11"
  }
 },
 "nbformat": 4,
 "nbformat_minor": 4
}
